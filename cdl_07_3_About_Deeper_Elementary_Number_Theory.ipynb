{
  "nbformat": 4,
  "nbformat_minor": 0,
  "metadata": {
    "colab": {
      "name": " 07_3_About_Deeper_Elementary_Number_Theory.ipynb",
      "provenance": [],
      "authorship_tag": "ABX9TyNCszEDhr4Gkb1LILMNegWc",
      "include_colab_link": true
    },
    "kernelspec": {
      "name": "python3",
      "display_name": "Python 3",
      "language": "python"
    }
  },
  "cells": [
    {
      "cell_type": "markdown",
      "metadata": {
        "id": "view-in-github",
        "colab_type": "text"
      },
      "source": [
        "<a href=\"https://colab.research.google.com/github/byui-cse/cse380-notebooks/blob/master/07_3_About_Deeper_Elementary_Number_Theory.ipynb\" target=\"_parent\"><img src=\"https://colab.research.google.com/assets/colab-badge.svg\" alt=\"Open In Colab\"/></a>"
      ]
    },
    {
      "cell_type": "markdown",
      "metadata": {
        "id": "fKBSJ5Hh6UMv"
      },
      "source": [
        "# About Deeper Elementary Number Theory\n",
        "## Class Directed Learning\n",
        "### Due: Wednesday, 17 February 2021, 11:59 pm"
      ]
    },
    {
      "cell_type": "markdown",
      "metadata": {
        "id": "yx-XMrWE6hEw"
      },
      "source": [
        "## Read and Ponder\n",
        "https://byui-cse.github.io/cse380-course/about-deeper-elementary-number-theory.pdf\n",
        "\n",
        "Put your answers in cells you will add below.\n",
        "\n",
        "Above and beyond behavior: Incorporate the material in the PDF into this notebook."
      ]
    },
    {
      "source": [
        "Step 10 is true since N is prime.\n",
        "\n",
        "https://www.youtube.com/watch?v=OoQ16YCYksw at about 5:00 timestamp.\n",
        "\n",
        "https://en.wikipedia.org/wiki/Proofs_of_Fermat%27s_little_theorem#Combinatorial_proofs\n",
        "\n"
      ],
      "cell_type": "markdown",
      "metadata": {}
    },
    {
      "source": [
        "import random\n",
        "import numpy as np\n",
        "from math import log\n",
        "k = 3\n",
        "num = \"\"\n",
        "\n",
        "for x in range(k):\n",
        "    newint = random.randint(0,9)\n",
        "    num += str(newint)\n",
        "\n",
        "k = 3\n",
        "\n",
        "prime_number_theorem = lambda n: n / np.log(n)\n",
        "get_max_for_k_digits = lambda k: int(k * '9')\n",
        "get_min_for_k_digits = lambda k: int('1' + (k-1) * '0')\n",
        "get_num_digits = lambda max, min : 1 + (max - min)\n",
        "get_num_digits_for_some_k = lambda k: get_num_digits(get_max_for_k_digits(k), get_min_for_k_digits(k))\n",
        "get_num_primes_in_less_than_k_digits = lambda k: prime_number_theorem(get_max_for_k_digits(k-1))\n",
        "\n",
        "\n",
        "# 999 -\n",
        "# 0 - 99 Not three digits number\n",
        "# divide by how many 3 digit numbers there are... \n",
        "\n",
        "def get_probability_k_digit_number_is_prime(k):\n",
        "  top =  prime_number_theorem(get_max_for_k_digits(k)) - get_num_primes_in_less_than_k_digits(k)\n",
        "  bottom = get_num_digits_for_some_k(k)\n",
        "  return top / bottom\n",
        "\n",
        "print(get_probability_k_digit_number_is_prime(3))"
      ],
      "cell_type": "code",
      "metadata": {},
      "execution_count": 39,
      "outputs": [
        {
          "output_type": "stream",
          "name": "stdout",
          "text": [
            "0.13677379560330394\n"
          ]
        }
      ]
    }
  ]
}