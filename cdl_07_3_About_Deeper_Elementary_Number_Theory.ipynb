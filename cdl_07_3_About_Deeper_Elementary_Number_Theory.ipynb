{
  "nbformat": 4,
  "nbformat_minor": 0,
  "metadata": {
    "colab": {
      "name": " 07_3_About_Deeper_Elementary_Number_Theory.ipynb",
      "provenance": [],
      "include_colab_link": true
    },
    "kernelspec": {
      "name": "python3",
      "display_name": "Python 3",
      "language": "python"
    }
  },
  "cells": [
    {
      "cell_type": "markdown",
      "metadata": {
        "id": "view-in-github",
        "colab_type": "text"
      },
      "source": [
        "<a href=\"https://colab.research.google.com/github/chasebw/cse380-notebooks/blob/master/cdl_07_3_About_Deeper_Elementary_Number_Theory.ipynb\" target=\"_parent\"><img src=\"https://colab.research.google.com/assets/colab-badge.svg\" alt=\"Open In Colab\"/></a>"
      ]
    },
    {
      "cell_type": "markdown",
      "metadata": {
        "id": "fKBSJ5Hh6UMv"
      },
      "source": [
        "# About Deeper Elementary Number Theory\n",
        "## Class Directed Learning\n",
        "### Due: Wednesday, 17 February 2021, 11:59 pm"
      ]
    },
    {
      "cell_type": "markdown",
      "metadata": {
        "id": "yx-XMrWE6hEw"
      },
      "source": [
        "## Read and Ponder\n",
        "https://byui-cse.github.io/cse380-course/about-deeper-elementary-number-theory.pdf\n",
        "\n",
        "Put your answers in cells you will add below.\n",
        "\n",
        "Above and beyond behavior: Incorporate the material in the PDF into this notebook."
      ]
    },
    {
      "cell_type": "markdown",
      "metadata": {
        "id": "ZJuhJG9-4rmj"
      },
      "source": [
        "Step 10 is true since N is prime.\n",
        "\n",
        "https://www.youtube.com/watch?v=OoQ16YCYksw at about 5:00 timestamp.\n",
        "\n",
        "https://en.wikipedia.org/wiki/Proofs_of_Fermat%27s_little_theorem#Combinatorial_proofs\n",
        "\n"
      ]
    },
    {
      "cell_type": "code",
      "metadata": {
        "id": "_BRvO9wZ4rmk",
        "outputId": "f6ca72ea-5466-4c08-90ca-89a6ea11afb1"
      },
      "source": [
        "import random\n",
        "import numpy as np\n",
        "from math import log\n",
        "k = 3\n",
        "num = \"\"\n",
        "\n",
        "for x in range(k):\n",
        "    newint = random.randint(0,9)\n",
        "    num += str(newint)\n",
        "\n",
        "k = 3\n",
        "\n",
        "prime_number_theorem = lambda n: n / np.log(n)\n",
        "get_max_for_k_digits = lambda k: int(k * '9')\n",
        "get_min_for_k_digits = lambda k: int('1' + (k-1) * '0')\n",
        "get_num_digits = lambda max, min : 1 + (max - min)\n",
        "get_num_digits_for_some_k = lambda k: get_num_digits(get_max_for_k_digits(k), get_min_for_k_digits(k))\n",
        "get_num_primes_in_less_than_k_digits = lambda k: prime_number_theorem(get_max_for_k_digits(k-1))\n",
        "\n",
        "\n",
        "# 999 -\n",
        "# 0 - 99 Not three digits number\n",
        "# divide by how many 3 digit numbers there are... \n",
        "\n",
        "def get_probability_k_digit_number_is_prime(k):\n",
        "  top =  prime_number_theorem(get_max_for_k_digits(k)) - get_num_primes_in_less_than_k_digits(k)\n",
        "  bottom = get_num_digits_for_some_k(k)\n",
        "  return top / bottom\n",
        "\n",
        "print(get_probability_k_digit_number_is_prime(3))"
      ],
      "execution_count": null,
      "outputs": [
        {
          "output_type": "stream",
          "text": [
            "0.13677379560330394\n"
          ],
          "name": "stdout"
        }
      ]
    },
    {
      "cell_type": "markdown",
      "metadata": {
        "id": "QLmzNSqW46B_"
      },
      "source": [
        "$\\color{red}{\\text{I think you over thought this one.}}$"
      ]
    },
    {
      "cell_type": "code",
      "metadata": {
        "id": "uW29dkbi5D-a",
        "outputId": "db82d6ae-d24b-4897-aa9a-3e41294e8533",
        "colab": {
          "base_uri": "https://localhost:8080/"
        }
      },
      "source": [
        "from math import log\r\n",
        "\r\n",
        "def prob_k(k):\r\n",
        "  n = (10 ** (k + 1)) - 1\r\n",
        "  m = (10 ** k) - 1\r\n",
        "  return ((n/log(n)) - (m/log(m))) / (n-m)\r\n",
        "\r\n",
        "for k in range(1, 10):\r\n",
        "  print(prob_k(k))"
      ],
      "execution_count": 1,
      "outputs": [
        {
          "output_type": "stream",
          "text": [
            "0.1938724368727183\n",
            "0.13677379560330394\n",
            "0.10455537855843747\n",
            "0.08444634338553433\n",
            "0.07077392909303835\n",
            "0.06089314263700293\n",
            "0.053425114913450325\n",
            "0.047584734905908165\n",
            "0.04289328216377114\n"
          ],
          "name": "stdout"
        }
      ]
    },
    {
      "cell_type": "markdown",
      "metadata": {
        "id": "isjLdIRH5FAT"
      },
      "source": [
        "$\\color{red}{\\text{Something like this was all that was needed. We needed to prove that as k approaches infinity, the value goes to 0.}}$"
      ]
    },
    {
      "cell_type": "markdown",
      "metadata": {
        "id": "zHyRtHpX5Zck"
      },
      "source": [
        "$\\color{red}{\\text{However, your answer was right for k = 3.}}$"
      ]
    }
  ]
}