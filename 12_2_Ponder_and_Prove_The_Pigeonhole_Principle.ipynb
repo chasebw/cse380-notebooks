{
  "nbformat": 4,
  "nbformat_minor": 0,
  "metadata": {
    "colab": {
      "name": "12_2_Ponder_and_Prove_The_Pigeonhole_Principle.ipynb",
      "provenance": [],
      "authorship_tag": "ABX9TyMUpDwijcJKPxnaIhDtOnTj",
      "include_colab_link": true
    },
    "kernelspec": {
      "name": "python3",
      "display_name": "Python 3.9.2 64-bit",
      "metadata": {
        "interpreter": {
          "hash": "63fd5069d213b44bf678585dea6b12cceca9941eaf7f819626cde1f2670de90d"
        }
      }
    },
    "language_info": {
      "name": "python",
      "version": "3.9.2-final"
    }
  },
  "cells": [
    {
      "cell_type": "markdown",
      "metadata": {
        "id": "view-in-github",
        "colab_type": "text"
      },
      "source": [
        "<a href=\"https://colab.research.google.com/github/byui-cse/cse380-notebooks/blob/master/12_2_Ponder_and_Prove_The_Pigeonhole_Principle.ipynb\" target=\"_parent\"><img src=\"https://colab.research.google.com/assets/colab-badge.svg\" alt=\"Open In Colab\"/></a>"
      ]
    },
    {
      "cell_type": "markdown",
      "metadata": {
        "id": "ivY_Ypmxx7Vm"
      },
      "source": [
        "# Ponder and Prove The Pigeonhole Principle\n",
        "## Due: Saturday, 27 March 2021"
      ]
    },
    {
      "cell_type": "markdown",
      "metadata": {
        "id": "zF2K38sxyH5Z"
      },
      "source": [
        "## Exploration"
      ]
    },
    {
      "cell_type": "markdown",
      "metadata": {
        "id": "uBgYLYK5yJzk"
      },
      "source": [
        "You are invited to explore some of the ramifications of the *Pigeonhole Principle*, a fascinating counting principle belonging to combinatorics.\n"
      ]
    },
    {
      "cell_type": "markdown",
      "metadata": {
        "id": "cIS4n3DpyXA1"
      },
      "source": [
        "### Requirements"
      ]
    },
    {
      "cell_type": "markdown",
      "metadata": {
        "id": "FqgealMfyZc8"
      },
      "source": [
        "Read Brother Kent Bessey's essay entitled *Pigeons and Pigeonholes*, think about and explore the topics therein, and write your response thereto.\n",
        "\n",
        "Include in your response a description of a discussion about this essay that you will have had with someone *not in the class* (nor in any of the STEM majors). This person can be a spouse, friend, roommate, or relative. The point is to find someone who is not mathematically strong, and has probably never heard of the Pigeonhole Principle, or combinatorics (or discrete mathematics) in general."
      ]
    },
    {
      "source": [
        "<p>\n",
        "Response:\n",
        "The Pigeonhole principle is simple, intuitive, and what\n",
        "seems like an obvious idea that has been standardized. I guess that is what principles normally are. The Pigeonhole principle is interesting as it seems simple when we are talking about just 4 pigeons and 3 pigeonholes. However, when you scale the problem to have more pigeonholes or more factors, that's when it gets more complicated to solve and understand plainly. This principle however is fun and has power as mentioned in the article in mathematical proofs, and solving problems like the one for this week's assignment. It seems to be talking about sets when I first look at it. To me I see the principle talking about how there is at least one set that has these characteristics, and where the set item will be repeated. I think it is interesting that what the pigeonhole represents is what is mentioned in this assignment as a certainity-not-chance feature. This meaning that what we are stating is not probablistic but entirely fact and reality about a given situation. This fact may not be identifying an item or what characteristic of an item but it identifying a feature of the group. This statement of fact is that of existence not of identification nessecarily. Meaning we know something in particular about the set or group we are talking about but not nessecarily the pair or particular pigeonhole being talked about.\n",
        "</p>\n",
        "\n",
        "<p>\n",
        "Discussion:\n",
        "I discussed this topic with my sister who is a communication major. She mentioned that the idea seems pretty simple and easy to understand. The ideas about Idahoans having breakfast at the same time did not seem obvious immediately and she mentioned that maybe that is not true if it was fast Sunday, or even maybe if you considered many people skip breakfast. She also mentioned that this principle is also just plain obvious in some ways or common sense. She also mentioned that it does seem interesting, however.\n",
        "</p>"
      ],
      "cell_type": "markdown",
      "metadata": {}
    },
    {
      "cell_type": "markdown",
      "metadata": {
        "id": "aPEEcqUGzFds"
      },
      "source": [
        "#### Copyright Note"
      ]
    },
    {
      "cell_type": "markdown",
      "metadata": {
        "id": "9EPgpQ0hzHr5"
      },
      "source": [
        "Brother Kent A. Bessey, Professor of Mathematics at BYU-Idaho, holds the copyright to this essay, which means:\n",
        "\n",
        "> All rights reserved (by him). Reproduced by permission (from him).\n",
        "Read-only. Please do not copy, print, transmit or save a copy of\n",
        "this work.\n",
        "\n",
        "He has authorized your temporary use of his work, which [you can find here](https://firstthreeodds.org/17657741833134731255/pigeons-and-pigeonholes.pdf)."
      ]
    },
    {
      "cell_type": "markdown",
      "metadata": {
        "id": "vRKIt3NOzkwH"
      },
      "source": [
        "### TODO Concretize the Abstract by Writing Some Code"
      ]
    },
    {
      "cell_type": "markdown",
      "metadata": {
        "id": "ngXSoVu3znIJ"
      },
      "source": [
        "Specifically, write some Python code to help you figure out the problem on page 40, which Brother Bessey prefaces by saying:\n",
        "\n",
        "> I leave it to the reader to verify the calculations for a final (albeit challenging) exercise ...!\n",
        "\n",
        "Include the results of your grappling with this problem, and note the two stubbed functions below that you must flesh out in order to verify the calculations and explain the hows and whys."
      ]
    },
    {
      "source": [
        "<pre>\n",
        "THE CHALLENGE:\n",
        "\n",
        "At least two people in Idaho have the same initials (including\n",
        "middle initial, if any) and the following characteristics: either all\n",
        "of them or none of them are LDS; all of them or none of them\n",
        "like cats; all of them or none of them were born before 1967; all of\n",
        "them or none of them wear contacts; all of them or none of them\n",
        "bite their fingernails; all of them or none of them live within 3 ½\n",
        "miles of a McDonald’s."
      ],
      "cell_type": "markdown",
      "metadata": {}
    },
    {
      "source": [
        "<pre>\n",
        "NOTE:\n",
        "Given m items and n containers there is at least one container with ceil(m/n) items"
      ],
      "cell_type": "markdown",
      "metadata": {}
    },
    {
      "cell_type": "markdown",
      "metadata": {
        "id": "EBQNhzqGzzIF"
      },
      "source": [
        "### Code"
      ]
    },
    {
      "cell_type": "code",
      "metadata": {
        "id": "fCOUkHjqz10k"
      },
      "source": [
        "from math import ceil\n",
        "\n",
        "# Some variables\n",
        "POPULATION_OF_IDAHO = 1787065 # Found online \n",
        "\n",
        "###################################################\n",
        "# CALCULATE INITIAL COMBOS \n",
        "###################################################\n",
        "def calculate_number_of_possible_initials_including_middle_initial_if_any(n):\n",
        "  return n * n  * (n+1)\n",
        "\n",
        "###################################################\n",
        "# PIGEONHOLE_FROM_PIGEON \n",
        "# Calculates the maximum pigeon hole from \n",
        "# pigeon with traits in a pigeonhole problem.\n",
        "###################################################\n",
        "def pigeonhole_from_pigeon(pigeon_represented_as_a_person_with_traits):\n",
        "  poss_initial_combos = calculate_number_of_possible_initials_including_middle_initial_if_any(26)\n",
        "  num_traits = len(pigeon_represented_as_a_person_with_traits) - 1\n",
        "\n",
        "  # Store in person \n",
        "  person = pigeon_represented_as_a_person_with_traits\n",
        "\n",
        "  # Initialize String\n",
        "  person_str = \"\"\n",
        "\n",
        "  # Split up his name into First, middle?, last\n",
        "  person_name = person['Name'].split()\n",
        "\n",
        "  # Grab Initials\n",
        "  person_str += person_name[0][0]\n",
        "  if(len(person_name) == 3):\n",
        "    person_str += person_name[-2][0]\n",
        "  else:\n",
        "    person_str += \" \"\n",
        "  person_str += person_name[-1][0]\n",
        "  person_str += \":\"\n",
        "\n",
        "  # Don't need this anymore\n",
        "  person.pop(\"Name\", None)\n",
        "\n",
        "  # Grab booleans\n",
        "  for key in person.keys():\n",
        "    person_str += str(int(person[key]))\n",
        "\n",
        "  # Given m items and n containers there is at least one container with ceil(m/n) items\n",
        "  items = POPULATION_OF_IDAHO\n",
        "  containers = poss_initial_combos * (2**num_traits)\n",
        "\n",
        "  ## Asserts to check \n",
        "  assert containers > 1000000\n",
        "  assert len(person_str) == 10\n",
        "\n",
        "  ## (Pigeons in big hole, person string)\n",
        "  return ceil(items/containers), person_str\n",
        "\n",
        "# Some Person we might consider a \"Pigeon\"\n",
        "some_person = {'Name': 'John Doe', 'LDS': True, 'Likes Cats': True, 'Born Before': True, 'Wears Contacts': False, 'Bites Fingernails': False, 'Lives Close': True}\n",
        "\n",
        "# Call the Function\n",
        "num, person_str = pigeonhole_from_pigeon(some_person)\n",
        "\n",
        "# Print out results\n",
        "print(\"There is at least one case where, \" ,end=\"\")\n",
        "print(f\"{num} people match the specified characteristics.\\n\")\n",
        "\n",
        "print(\"Our Person is here: \")\n",
        "print(person_str)"
      ],
      "execution_count": 21,
      "outputs": [
        {
          "output_type": "stream",
          "name": "stdout",
          "text": [
            "There is at least one case where, 2 people match the specified characteristics.\n\nOur Person is here: \nJ D:111001\n"
          ]
        }
      ]
    },
    {
      "cell_type": "markdown",
      "metadata": {
        "id": "JvMpIHMF0JuM"
      },
      "source": [
        "### TODO Find Applications of the Pigeonhole Principle"
      ]
    },
    {
      "cell_type": "markdown",
      "metadata": {
        "id": "9aicPoZG0Lbj"
      },
      "source": [
        "The Pigeonhole Principle is also known as Dirichlet's box principle or Dirichlet's drawer principle.\n",
        "\n",
        "* It has an obvious application to finite sets, such as pigeons and boxes. \\[1]\n",
        "\n",
        "* It can be used with infinite sets that cannot be put into one-to-one correspondence to talk about cardinality.\n",
        "This involves stating there is not an injective function whose codomain is smaller than its domain. This is a formal statement of the pigeonhole principle. \\[1]\n",
        "\n",
        "* Yakir Aharonov has presented arguments that the pigeonhole principle may be violated in quantum mechanics. \\[1]\n",
        "\n",
        "* Ramsey's Theorem is another formal definition that has the idea of the pigeonhole principle in it, relating it to graphs. It is described in the example of the R(3,3) graph which we suppose the edges of a complete graph on 6 vertices are colored red and blue. If we pick a vertex, (v) there are 5 edges incident to some vertex(v), we picked and so by the pigeonhole principle at least 3 of them must be the same color. \\[2]\n",
        "\n",
        "* A Combinatorial proof, or proof by double counting. A combinatorial identity is proven by counting the number of elements of some carefully chosen set in two different ways to obtain the different expressions in the identity. The principles of double counting and bijection used in combinatorial proofs can be seen to include ideas such as the pigeonhole principle. \\[3]\n",
        "\n",
        "\n",
        "\n",
        "\\[1] https://en.wikipedia.org/wiki/Pigeonhole_principle\n",
        "\n",
        "\\[2] https://en.wikipedia.org/wiki/Ramsey%27s_theorem\n",
        "\n",
        "\\[3] https://en.wikipedia.org/wiki/Combinatorial_proof\n"
      ]
    },
    {
      "cell_type": "markdown",
      "metadata": {
        "id": "81dbKwHenxnT"
      },
      "source": [
        "## TODO My Report on What I Did and What I Learned"
      ]
    },
    {
      "cell_type": "markdown",
      "metadata": {
        "id": "C8BeiIern33B"
      },
      "source": [
        "### Fun\n"
      ]
    },
    {
      "cell_type": "markdown",
      "metadata": {
        "id": "ElukRLoezyxd"
      },
      "source": [
        "I think this assignment was decently fun. I liked that it was simple and involved more research and learning, in general, to discover and understand something important."
      ]
    },
    {
      "cell_type": "markdown",
      "metadata": {
        "id": "OzOkZ3son-u9"
      },
      "source": [
        "### New"
      ]
    },
    {
      "cell_type": "markdown",
      "metadata": {
        "id": "3-nYIdEUz4x5"
      },
      "source": [
        "I learned about the pigeonhole principle and how it is used as a general idea in many areas of math including, graphs, functions, geometry, paradoxes, and more ideas."
      ]
    },
    {
      "cell_type": "markdown",
      "metadata": {
        "id": "mJHvoj6GokaZ"
      },
      "source": [
        "### Meaningful\n"
      ]
    },
    {
      "cell_type": "markdown",
      "metadata": {
        "id": "XOxh3XFTz-6N"
      },
      "source": [
        "I think what I achieved that was meaningful was an understanding of the pigeonhole principle. Also, I was able to apply the pigeonhole principle and understand how it exists in other theorems and areas of math that we have already used, but we haven't explicitly stated it as using the pigeonhole principle. We have instead used other related language."
      ]
    },
    {
      "cell_type": "markdown",
      "metadata": {
        "id": "_RBE03fhpNUG"
      },
      "source": [
        "### Other"
      ]
    },
    {
      "cell_type": "markdown",
      "metadata": {
        "id": "d-sXEeq60C3W"
      },
      "source": [
        "Connections:\n",
        "I made some connections with some of the topics we studied in the previous week like Ramsey's Theorem which is based on the Pigeonhole Principle essentially. I also made connections with functions, bijectivity, and cardinality as I mentioned that in the applications of the Pigeonhole Principle. Altogether you can see how the Pigeonhole Principle is applied over and over in various areas of math if you look, just worded and spun different ways.\n",
        "\n",
        "\n",
        "Collaborators:\n",
        "I talked with Jack Leung. We discussed our answers and ideas with one another. We had a conversation about the assignment until we were confident that we did it correctly and we believed had similar ideas and answers."
      ]
    },
    {
      "cell_type": "markdown",
      "metadata": {
        "id": "Nrk-8EmgW4NP"
      },
      "source": [
        "## TODO What is True?\n",
        "Click on each warranted checkbox to toggle it to True (or back to False). \n",
        "\n",
        "NOTE: *This only works in Colab. If you run it in some other Jupyter notebook client/server environment you may have to change False to True (or vice versa) manually.*\n",
        "\n",
        "This self-assessment is subject to revision by a grader."
      ]
    },
    {
      "cell_type": "code",
      "metadata": {
        "id": "qGAjzgVRXR4M"
      },
      "source": [
        "#@markdown ## What is True about what I did?\n",
        "#@markdown ### I had fun.\n",
        "cb00 = True #@param {type:'boolean'}\n",
        "#@markdown ### I learned something new.\n",
        "cb01 = True #@param {type:'boolean'}\n",
        "#@markdown ### I achieved something meaningful, or something I can build upon at a later time.\n",
        "cb02 = True #@param {type:'boolean'}\n",
        "#@markdown ## What is True about my report?\n",
        "#@markdown ### I wrote a sufficient number of well-written sentences.\n",
        "cb03 = True #@param {type:'boolean'}\n",
        "#@markdown ### My report is free of mechanical infelicities.\n",
        "cb04 = True #@param {type:'boolean'}\n",
        "#@markdown ### I used Grammarly (or something better described in my report) to check for MIs.\n",
        "cb05 = True #@param {type:'boolean'}\n",
        "#@markdown ### I reported on any connections I found between these problems and something I already know. \n",
        "cb06 = True #@param {type:'boolean'}\n",
        "#@markdown ### I reported who were and what contribution each of my collaborators made.\n",
        "cb07 = True #@param {type:'boolean'}\n",
        "#@markdown ### I reported what I thought about the essay in general.\n",
        "cb08 = True #@param {type:'boolean'}\n",
        "#@markdown ### I reported what I thought about the certainty-not-chance feature of the pigeonhole principle.\n",
        "cb09 = True #@param {type:'boolean'}\n",
        "#@markdown ### I reported what I thought about the philosophical aspect of the pigeonhole principle per page 41.\n",
        "cb10 = True #@param {type:'boolean'}\n",
        "#@markdown ### I reported on how my discussion with a non-STEM non-classmate went.\n",
        "cb11 = True #@param {type:'boolean'}\n",
        "#@markdown ### I reported on how I grappled with the problem at the bottom of page 40.\n",
        "cb12 = True #@param {type:'boolean'}\n",
        "#@markdown ### I reported on the connection I found between the pigeonhole principle and graphs.\n",
        "cb13 = True #@param {type:'boolean'}\n",
        "#@markdown ## What is True about my code?\n",
        "#@markdown ### I implemented the first function (the one with the absurdly long name) in one or two lines of code.\n",
        "cb14 = True #@param {type:'boolean'}\n",
        "#@markdown ### I used either the sum rule and product rule together or else just the product rule in the first function.\n",
        "cb15 = True #@param {type:'boolean'}\n",
        "#@markdown ### The first function calculates and returns the correct value (see Exercise 250).\n",
        "cb16 = True #@param {type:'boolean'}\n",
        "#@markdown ### The second function inputs a dictionary like {'Name': 'John Doe', 'LDS': True, 'Likes Cats': True, 'Born Before': True, 'Wears Contacts': True, 'Bites Fingernails': True, 'Lives Close': True} and returns the string 'J D:111001'.\n",
        "cb17 = True #@param {type:'boolean'}\n",
        "#@markdown ### The second function calls the first function with the appropriate argument and uses the result.\n",
        "cb18 = True #@param {type:'boolean'}\n",
        "#@markdown ### The second function includes an assert that the length of the string being returned is 10.\n",
        "cb19 = True #@param {type:'boolean'}\n",
        "#@markdown ### The second function includes an assert that the cardinality of its codomain (set of possible return values) is over a million.\n",
        "cb20 = True #@param {type:'boolean'}"
      ],
      "execution_count": 18,
      "outputs": []
    },
    {
      "cell_type": "markdown",
      "metadata": {
        "id": "q8KESLBANSkC"
      },
      "source": [
        "## DO NOT CHANGE ANYTHING IN THE NEXT CODE CELL!!\n",
        "### Delete this cell and the following ones before submitting your work."
      ]
    },
    {
      "cell_type": "code",
      "metadata": {
        "id": "rJ_vaL0DWwoc",
        "colab": {
          "base_uri": "https://localhost:8080/"
        },
        "outputId": "de4a9ea6-03a9-4d79-94dd-27e2603abe59"
      },
      "source": [
        "points_for_what_I_did = [3]*3\n",
        "points_for_my_report = [5]*8 + [7] + [6]*2\n",
        "points_for_my_code = [4]*3 + [5]*4\n",
        "points = points_for_what_I_did + points_for_my_report + points_for_my_code\n",
        "# cb is short for checkbox\n",
        "total = sum(map(lambda n, p: p if eval(f'cb{n:02}') else 0,\n",
        "                range(len(points)), points))             \n",
        "total"
      ],
      "execution_count": 19,
      "outputs": [
        {
          "output_type": "execute_result",
          "data": {
            "text/plain": [
              "100"
            ]
          },
          "metadata": {},
          "execution_count": 19
        }
      ]
    },
    {
      "cell_type": "markdown",
      "metadata": {
        "id": "muxeYgQQKGEU"
      },
      "source": [
        "# For graders"
      ]
    }
  ]
}