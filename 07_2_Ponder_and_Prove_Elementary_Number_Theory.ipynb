{
  "nbformat": 4,
  "nbformat_minor": 0,
  "metadata": {
    "kernelspec": {
      "display_name": "Python 3",
      "language": "python",
      "name": "python3"
    },
    "language_info": {
      "codemirror_mode": {
        "name": "ipython",
        "version": 3
      },
      "file_extension": ".py",
      "mimetype": "text/x-python",
      "name": "python",
      "nbconvert_exporter": "python",
      "pygments_lexer": "ipython3",
      "version": "3.7.6"
    },
    "colab": {
      "name": "07_2_Ponder_and_Prove_Elementary_Number_Theory.ipynb",
      "provenance": [],
      "include_colab_link": true
    }
  },
  "cells": [
    {
      "cell_type": "markdown",
      "metadata": {
        "id": "view-in-github",
        "colab_type": "text"
      },
      "source": [
        "<a href=\"https://colab.research.google.com/github/byui-cse/cse380-notebooks/blob/master/07_2_Ponder_and_Prove_Elementary_Number_Theory.ipynb\" target=\"_parent\"><img src=\"https://colab.research.google.com/assets/colab-badge.svg\" alt=\"Open In Colab\"/></a>"
      ]
    },
    {
      "cell_type": "markdown",
      "metadata": {
        "id": "1rG4k7VvQ2WT"
      },
      "source": [
        "# Ponder and Prove Elementary Number Theory\n",
        "#### Due: Saturday, 20 February 2021, 11:59 pm."
      ]
    },
    {
      "cell_type": "markdown",
      "metadata": {
        "id": "W0WxE3IAQ2WU"
      },
      "source": [
        "## Explore Fermat's Little Theorem Further\n"
      ]
    },
    {
      "cell_type": "markdown",
      "metadata": {
        "id": "w2vby9erSjOv"
      },
      "source": [
        "Fermat's Little Theorem (FLT) says that if $N$ is prime, then $N$ divides $X^N - X$.\n",
        "\n",
        "Remember, the contrapositive of the conditional statement in this theorem is that if $N$ **doesn't** divide $X^N - X$ for some $X$, then $N$ **can't** be prime.\n",
        "\n",
        "Unfortunately, this simple primality test doesn't always work, because it can be fooled by **pseudoprimes**.\n",
        "\n",
        "For example, $341 = 11 \\cdot 31$ is not prime. But $341$ **does** divide $2^{341} - 2$ as verified below:"
      ]
    },
    {
      "cell_type": "code",
      "metadata": {
        "id": "NBrPMgZoTLAe"
      },
      "source": [
        "((2 ** 341) - 2) % 341"
      ],
      "execution_count": 12,
      "outputs": [
        {
          "output_type": "execute_result",
          "data": {
            "text/plain": [
              "0"
            ]
          },
          "metadata": {},
          "execution_count": 12
        }
      ]
    },
    {
      "cell_type": "markdown",
      "metadata": {
        "id": "igGoVqAOTTm_"
      },
      "source": [
        "So $341$ is a so-called **base-2 pseudoprime**. What about **base-3**?"
      ]
    },
    {
      "cell_type": "code",
      "metadata": {
        "id": "hwrSZ1xDTVxW"
      },
      "source": [
        "((3 ** 341) - 3) % 341"
      ],
      "execution_count": 13,
      "outputs": [
        {
          "output_type": "execute_result",
          "data": {
            "text/plain": [
              "165"
            ]
          },
          "metadata": {},
          "execution_count": 13
        }
      ]
    },
    {
      "cell_type": "code",
      "execution_count": 1,
      "metadata": {},
      "outputs": [
        {
          "output_type": "stream",
          "name": "stdout",
          "text": [
            "Base 3 maybe pseudoprimes: \n6\n66\n91\n121\n286\n561\n671\n703\n726\n949\n"
          ]
        }
      ],
      "source": [
        "from sympy import isprime \n",
        "\n",
        "FLT = lambda x, n : ((x ** n) - x) % n == 0\n",
        "\n",
        "print(\"Base 3 maybe pseudoprimes: \")\n",
        "for n in range(3,1000):\n",
        "    if(FLT(3,n) and not isprime(n)):\n",
        "        print(n)"
      ]
    },
    {
      "cell_type": "markdown",
      "metadata": {
        "id": "AMFTYECVTgy4"
      },
      "source": [
        "### The answer is yes."
      ]
    },
    {
      "cell_type": "markdown",
      "metadata": {
        "id": "u-CxbDylTkYp"
      },
      "source": [
        "Your task is the find the first 4-digit **bullet-proof pseudoprime** (**bppp**) and **prove** (yes, **PROVE**) that it will fool the FLT test for every base coprime to it.\n",
        "\n",
        "Your proof must use all of the following:\n",
        "1. the definition of coprime,\n",
        "2. a consequence of coprimality,\n",
        "3. the factorization of the **bppp**,\n",
        "4. FLT, and the\n",
        "5. CRT (Chinese Remainder Theorem).\n"
      ]
    },
    {
      "source": [
        "set3 = set()\n",
        "set4 = set()\n",
        "set5 = set()\n",
        "set6 = set()\n",
        "\n",
        "# Checking for psuedoprimes\n",
        "\n",
        "for n in range(1000,9999):\n",
        "    if(FLT(3,n) and not isprime(n)):\n",
        "        set3.add(n)\n",
        "\n",
        "for n in range(1000,9999):\n",
        "    if(FLT(4,n) and not isprime(n)):\n",
        "        set4.add(n)\n",
        "\n",
        "for n in range(1000,9999):\n",
        "    if(FLT(5,n) and not isprime(n)):\n",
        "        set5.add(n)\n",
        "\n",
        "for n in range(1000,9999):\n",
        "    if(FLT(6,n) and not isprime(n)):\n",
        "        set6.add(n)\n",
        "\n",
        "\n",
        "bppps = set6.intersection(set5.intersection(set3.intersection(set3,set4)))\n",
        "print(min(bppps))\n",
        "# [1] 1105 is the first 4-digit bpp as demonstrated in class by Br Neff."
      ],
      "cell_type": "code",
      "metadata": {},
      "execution_count": 15,
      "outputs": [
        {
          "output_type": "stream",
          "name": "stdout",
          "text": [
            "1105\n"
          ]
        }
      ]
    },
    {
      "source": [
        "# testing 1105 a little\n",
        "tests = set()\n",
        "for x in range (1,1000):\n",
        "    tests.add(FLT(x,1105))\n",
        "\n",
        "print(tests)"
      ],
      "cell_type": "code",
      "metadata": {},
      "execution_count": 16,
      "outputs": [
        {
          "output_type": "stream",
          "name": "stdout",
          "text": [
            "{True}\n"
          ]
        }
      ]
    },
    {
      "source": [
        "## Proof\n",
        "\n",
        "- Let n be 1105.\n",
        "\n",
        "- Let $x \\in \\mathbb{Z}$ and represent any $x$.\n",
        "\n",
        "\\[1] By Fermat's Little Theorem we know that when n is prime, $n | x^n - x$, which also means that\n",
        "$x^n \\equiv x$ (mod n). \n",
        "\n",
        "\\[2] This can be written also as \n",
        "$x^{n-1} \\equiv 1$ (mod n), because below mentioned points:\n",
        "\n",
        "- gcd(x,n) = 1, x and n are coprime, since n is prime.\n",
        "- By the following Modular Arithmetic Property:\n",
        "- If k a ≡ k $\\cdot$ b (mod n) and k is coprime with n, then a ≡ b (mod n)\n",
        "- This explains step 2.\n",
        "\n",
        "\n",
        "\n",
        "In order to demonstrate $x^{n-1} \\equiv 1$ (mod n). We continue.\n",
        "\n",
        "1105 = 5 $\\cdot$ 13 $\\cdot$ 17. So any number divisable by all three of those\n",
        "numbers, which are all coprime is also divisiable by 1105.\n",
        "\n",
        "\\[3] By the Chinese Remainder Theorem we know that there is an x that solves the following:\n",
        "\n",
        "\n",
        "- $ x \\equiv 1 $ (mod 5)\n",
        "\n",
        "- $ x \\equiv 1 $ (mod 13)\n",
        "\n",
        "- $ x \\equiv 1 $ (mod 17)\n",
        "\n",
        "There is a solution for x mod 1105. \n",
        "\n",
        "\\[4] By FLT: Specifically, as mentioned above we know that $x^{n-1} \\equiv 1$ (mod n)\n",
        "\n",
        "- $x^{4}  \\equiv 1$ (mod 5)\n",
        "- $x^{12} \\equiv 1$ (mod 13)\n",
        "- $x^{16} \\equiv 1$ (mod 17)\n",
        "\n",
        "\n",
        "\\[5] We can see that. 276 $\\cdot$ 4 = 12 $\\cdot$ 92 = 16 $\\cdot$ 69 = 1104.\n",
        "Using the fact that $a \\equiv b$ (mod n), then $a^k \\equiv b^k$ (mod n).\n",
        "\n",
        "\n",
        "- $x^{4 * 276} \\equiv 1^{276}$ (mod 5)\n",
        "- $x^{12 * 92} \\equiv 1^{92}$ (mod 13)\n",
        "- $x^{16 * 69} \\equiv 1^{69}$ (mod 17)\n",
        "\n",
        "\\[6] So $x^{1104} \\equiv 1$ (mod 5,13,17). Thus, the solution is $x^{1104}$ to the system of equations from the CRT.\n",
        "so $x^{n-1} \\equiv 1$ (mod n). This shows 1105 will always fool FLT primality test.\n",
        "\n",
        "Note: \n",
        "My answer is based off a community post, see \\[1], with my own small additions. I read over the post about 15 times before I understood it, it took me a while to make all the connections and understand the pieces. I am now confident I understand it and I am okay with submitting this assignment since I can say I fully understand it now. This source and other sources helped me make the connections and put the pieces together.\n",
        "\n",
        "Sources: \n",
        "\n",
        "- \\[1] Community Post - https://math.stackexchange.com/questions/1137914/a-number-is-a-pseudoprime\n",
        "\n",
        "- \\[2] Youtube video - 13:55 - https://www.youtube.com/watch?v=_9fbBSxhkuA\n",
        "\n",
        "- \\[3] Korselt's Theorem - http://people.math.gatech.edu/~mbaker/pdf/korselt.pdf \n",
        "\n",
        "- \\[4] Modular Arithmetic - https://en.wikipedia.org/wiki/Modular_arithmetic\n"
      ],
      "cell_type": "markdown",
      "metadata": {}
    },
    {
      "source": [
        "## Notes\n",
        "\n",
        "\\[1] The definition of coprime\n",
        "- Two numbers x and y are coprime if gcd(x,y) = 1\n",
        "\n",
        "\\[2] A consequence of coprimality\n",
        "- A consequence of coprimality is that we will not see any factors if \n",
        "two numbers are coprime besides 1.\n",
        "- Also Modular Arithmetic properties see above.\n",
        "\n",
        "\\[3]. The factorization of the **bppp**,\n",
        "- \\[1, 5, 13, 17, 65, 85, 221, 1105] \n",
        "\n",
        "\\[4] FLT, and the\n",
        "- states that if p is a prime number, then for any integer a, the number ap − a is an integer multiple of p\n",
        "- $a^p \\equiv a \\pmod p$\n",
        "\n",
        "\\[5] CRT (Chinese Remainder Theorem).\n",
        "-  That if one knows the remainders of the Euclidean division of an integer n by several integers, then one can determine uniquely the remainder of the division of n by the product of these integers, under the condition that the divisors are pairwise coprime."
      ],
      "cell_type": "markdown",
      "metadata": {}
    },
    {
      "cell_type": "markdown",
      "metadata": {
        "id": "5Cgy_0B4Q2WW"
      },
      "source": [
        "## What is True?\n",
        "Assess yourself on how you did using the checkboxes below. Check a box by putting an 'X' in it only if it is warranted.\n"
      ]
    },
    {
      "cell_type": "markdown",
      "metadata": {
        "id": "81dbKwHenxnT"
      },
      "source": [
        "# TODO My Report on What I Did and What I Learned"
      ]
    },
    {
      "cell_type": "markdown",
      "metadata": {
        "id": "C8BeiIern33B"
      },
      "source": [
        "## Fun\n",
        "I had a little fun, solving the problem. In the end, finally feeling like I fully understood how each of the\n",
        "pieces connected was fun. The process of figuring it was hard and less fun, I had to reread items and research a lot to get an answer I was happy with. It was confusing/frustrating initially at first, but a little fun in the end. "
      ]
    },
    {
      "cell_type": "markdown",
      "metadata": {
        "id": "OzOkZ3son-u9"
      },
      "source": [
        "## New\n",
        "\n",
        "I was forced to learn more concretely FLT, some modular arithmetic, relearn the Chinese Remainder Theorem. I also learned a little bit about making proofs, researching, and persevering through a hard problem a little more."
      ]
    },
    {
      "cell_type": "markdown",
      "metadata": {
        "id": "mJHvoj6GokaZ"
      },
      "source": [
        "## Meaningful\n",
        "\n",
        "I learned about the important concepts mentioned above FLT, Modular arithmetic, CRT, and researching. These are important concepts that can be a little tricky to understand. Learning these items that I was less familiar with, and figuring out how some pieces connect together I think this was meaningful. Now that I was forced to understand these different concepts, I am confident I can build off them."
      ]
    },
    {
      "cell_type": "markdown",
      "metadata": {
        "id": "_RBE03fhpNUG"
      },
      "source": [
        "## Other\n",
        "Replace these words with your own describing other topics or sections of your report --- Connections, Collaborator Contributions, or anything else you feel impressed to add.\n",
        "\n",
        "Report on connection to something I already knew:\n",
        "- I knew the CRT a little however it was not exactly clear to me how it applied to this\n",
        "problem. It was tricky for me to make the connection. However now I understand more fully\n",
        "the CRT.\n",
        "- I was forced to learn a little deeper into modular arithmetic to understand the consequence\n",
        "of coprimality in the proof. I was able to connect what I already knew about modular\n",
        "arithmetic, and research a little further to learn more.\n",
        "\n",
        "Report on contribution:\n",
        "- I worked with Jack Leung, I discussed my understanding of the proof and we shared ideas with one another \n",
        "until we were confident in our answers."
      ]
    },
    {
      "cell_type": "markdown",
      "metadata": {
        "id": "Nrk-8EmgW4NP"
      },
      "source": [
        "# TODO What is True?\n",
        "Click on each warranted checkbox to toggle it to True (or back to False). \n",
        "\n",
        "NOTE: *This only works in Colab. If you run it in some other Jupyter notebook client/server environment you may have to change False to True (or vice versa) manually.*\n",
        "\n",
        "This self-assessment is subject to revision by a grader."
      ]
    },
    {
      "cell_type": "code",
      "metadata": {
        "id": "qGAjzgVRXR4M"
      },
      "source": [
        "#@markdown ## What is True about what I did?\n",
        "#@markdown ### I had fun.\n",
        "cb00 = True #@param {type:'boolean'}\n",
        "#@markdown ### I learned something new.\n",
        "cb01 = True #@param {type:'boolean'}\n",
        "#@markdown ### I achieved something meaningful, or something I can build upon at a later time.\n",
        "cb02 = True #@param {type:'boolean'}\n",
        "#@markdown ## What is true about my report?\n",
        "#@markdown ### I wrote a sufficient number of well-written sentences.\n",
        "cb03 = True #@param {type:'boolean'}\n",
        "#@markdown ### My report is free of mechanical infelicities.\n",
        "cb04 = True #@param {type:'boolean'}\n",
        "#@markdown ### I used Grammarly (or something better described in my report) to check for MIs.\n",
        "cb05 = True #@param {type:'boolean'}\n",
        "#@markdown ### I reported on any connections I found between these problems and something I already know. \n",
        "cb06 = True #@param {type:'boolean'}\n",
        "#@markdown ### I reported who were and what contribution each of my collaborators made.\n",
        "cb07 = True #@param {type:'boolean'}\n",
        "#@markdown ## What is true about my proof?\n",
        "#@markdown ### It succinctly uses the definition of coprime.\n",
        "cb08 = True #@param {type:'boolean'}\n",
        "#@markdown ### It correctly uses the definition of coprime.\n",
        "cb09 = True #@param {type:'boolean'}\n",
        "#@markdown ### It succinctly uses a consequence of comprimality\n",
        "cb10 = True #@param {type:'boolean'}\n",
        "#@markdown ### It correctly uses a consequence of comprimality\n",
        "cb11 = True #@param {type:'boolean'}\n",
        "#@markdown ### It succinctly uses the factorization of the **bppp**,\n",
        "cb12 = True #@param {type:'boolean'}\n",
        "#@markdown ### It correctly uses the factorization of the **bppp**,\n",
        "cb13 = True #@param {type:'boolean'}\n",
        "#@markdown ### It succinctly uses Fermat's Little Theorem. \n",
        "cb14 = True #@param {type:'boolean'}\n",
        "#@markdown ### It correctly uses Fermat's Little Theorem. \n",
        "cb15 = True #@param {type:'boolean'}\n",
        "#@markdown ### It succinctly uses the Chinese Remainder Theorem.\n",
        "cb16 = True #@param {type:'boolean'}\n",
        "#@markdown ### It correctly uses the Chinese Remainder Theorem.\n",
        "cb17 = True #@param {type:'boolean'}\n",
        "\n"
      ],
      "execution_count": 17,
      "outputs": []
    },
    {
      "cell_type": "markdown",
      "metadata": {
        "id": "q8KESLBANSkC"
      },
      "source": [
        "## DO NOT CHANGE ANYTHING IN THE NEXT CODE CELL!!\n",
        "### Delete this cell and the following ones before submitting your work."
      ]
    },
    {
      "cell_type": "code",
      "metadata": {
        "id": "rJ_vaL0DWwoc"
      },
      "source": [
        "points_for_what_I_did = [5]*3\n",
        "points_for_my_report = [7]*5\n",
        "points_for_my_proof = [5]*10\n",
        "points = points_for_what_I_did + points_for_my_report + points_for_my_proof\n",
        "# cb is short for checkbox\n",
        "total = sum(map(lambda n, p: p if eval(f'cb{n:02}') else 0,\n",
        "                range(len(points)), points))             \n",
        "total"
      ],
      "execution_count": 18,
      "outputs": [
        {
          "output_type": "execute_result",
          "data": {
            "text/plain": [
              "100"
            ]
          },
          "metadata": {},
          "execution_count": 18
        }
      ]
    },
    {
      "cell_type": "markdown",
      "metadata": {
        "id": "muxeYgQQKGEU"
      },
      "source": [
        "# For graders"
      ]
    },
    {
      "cell_type": "code",
      "metadata": {
        "id": "c0ldoieNKMTU"
      },
      "source": [
        "#@markdown ---\n",
        "number_of_MIs_found = 0 #@param {type: 'slider', min: 0, max: 5}\n",
        "#@markdown ---\n"
      ],
      "execution_count": 19,
      "outputs": []
    }
  ]
}