{
  "nbformat": 4,
  "nbformat_minor": 0,
  "metadata": {
    "colab": {
      "name": "11_3_About_The_Petersen_Graph.ipynb",
      "provenance": [],
      "authorship_tag": "ABX9TyNAmHlPgKOYTC4XMSkz3cCR",
      "include_colab_link": true
    },
    "kernelspec": {
      "name": "python3",
      "display_name": "Python 3.9.2 64-bit",
      "metadata": {
        "interpreter": {
          "hash": "63fd5069d213b44bf678585dea6b12cceca9941eaf7f819626cde1f2670de90d"
        }
      }
    }
  },
  "cells": [
    {
      "cell_type": "markdown",
      "metadata": {
        "id": "view-in-github",
        "colab_type": "text"
      },
      "source": [
        "<a href=\"https://colab.research.google.com/github/byui-cse/cse380-notebooks/blob/master/11_3_About_The_Petersen_Graph.ipynb\" target=\"_parent\"><img src=\"https://colab.research.google.com/assets/colab-badge.svg\" alt=\"Open In Colab\"/></a>"
      ]
    },
    {
      "cell_type": "markdown",
      "metadata": {
        "id": "0lYSr_8JNUpQ"
      },
      "source": [
        "# About The Petersen Graph\n",
        "## Class Directed Learning\n",
        "### Due: Tuesday, 16 March 2021, 11:59 pm"
      ]
    },
    {
      "cell_type": "markdown",
      "metadata": {
        "id": "0PuwZHqzNfTa"
      },
      "source": [
        "## TODO Explore and Wonder"
      ]
    },
    {
      "cell_type": "markdown",
      "metadata": {
        "id": "Gsu1FnbuNptP"
      },
      "source": [
        "The Petersen graph is described as the complement of the line graph of $K_5$.\n",
        "\n",
        "Draw each step of this construction using any graph-drawing tools in your toolbox.\n",
        "\n",
        "Teach one another how to use the tools you each have."
      ]
    },
    {
      "source": [
        "Start With Peterson graph"
      ],
      "cell_type": "markdown",
      "metadata": {}
    },
    {
      "source": [
        "<img src=\"peterson_1.png\">"
      ],
      "cell_type": "markdown",
      "metadata": {}
    },
    {
      "source": [
        "Make complement. By making adjacent edges non-adjacent and non-adjacent edges adjacent.\n",
        "Move inner points out to nearest edge"
      ],
      "cell_type": "markdown",
      "metadata": {}
    },
    {
      "source": [
        "<img src=\"comp.png\">"
      ],
      "cell_type": "markdown",
      "metadata": {}
    },
    {
      "source": [
        "Website Used:\n",
        "https://csacademy.com/app/graph_editor/"
      ],
      "cell_type": "markdown",
      "metadata": {}
    }
  ]
}