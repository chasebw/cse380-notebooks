{
  "nbformat": 4,
  "nbformat_minor": 0,
  "metadata": {
    "language_info": {
      "codemirror_mode": {
        "name": "ipython",
        "version": 3
      },
      "file_extension": ".py",
      "mimetype": "text/x-python",
      "name": "python",
      "nbconvert_exporter": "python",
      "pygments_lexer": "ipython3",
      "version": "3.9.2-final"
    },
    "orig_nbformat": 2,
    "kernelspec": {
      "name": "python3",
      "display_name": "Python 3.9.2 64-bit",
      "metadata": {
        "interpreter": {
          "hash": "63fd5069d213b44bf678585dea6b12cceca9941eaf7f819626cde1f2670de90d"
        }
      }
    },
    "colab": {
      "name": "14_1_My_Final_Grade_Claim_for_W21.ipynb",
      "provenance": []
    }
  },
  "cells": [
    {
      "cell_type": "markdown",
      "metadata": {
        "id": "0AGhbRUauD71"
      },
      "source": [
        ""
      ]
    },
    {
      "cell_type": "markdown",
      "metadata": {
        "id": "dEx3HOHmuD75"
      },
      "source": [
        "<img src=\"https://github.com/chasebw/cse380-notebooks/blob/master/Inkedgrade_claim_LI.jpg?raw=1\">"
      ]
    },
    {
      "cell_type": "markdown",
      "metadata": {
        "id": "XpLVc53GxzYC"
      },
      "source": [
        "# 3 Evidences\n",
        "\n",
        "Note: I notice you have to scroll slightly down to see what I am referring to."
      ]
    },
    {
      "cell_type": "markdown",
      "metadata": {
        "id": "MI6G1h_hwnAw"
      },
      "source": [
        "1. [Wheel Graph- Spanning Trees](https://colab.research.google.com/github/chasebw/cse380-notebooks/blob/master/10_2_Ponder_and_Prove_Spanning_Trees.ipynb#scrollTo=GKRYkQLrHmU_&line=2&uniqifier=1) - This looked cool."
      ]
    },
    {
      "cell_type": "markdown",
      "metadata": {
        "id": "I8ej2nGEyUSz"
      },
      "source": [
        "2. [Cliques and Anti-Cliques](https://colab.research.google.com/github/chasebw/cse380-notebooks/blob/master/11_2_Ponder_and_Prove_Verifying_Graph_Properties.ipynb#scrollTo=igq5RvLteTXT&line=1&uniqifier=1) - This was fun."
      ]
    },
    {
      "cell_type": "markdown",
      "metadata": {
        "id": "_KQsnShYzh5f"
      },
      "source": [
        "3. [Word Graphs](https://colab.research.google.com/github/chasebw/cse380-notebooks/blob/master/11_1_About_Paths_in_Word_Graphs.ipynb#scrollTo=A-KYauivzbD0&line=1&uniqifier=1) - This was interesting"
      ]
    },
    {
      "cell_type": "markdown",
      "metadata": {
        "id": "o8Zep0yR0m3Y"
      },
      "source": [
        "### A Grade Claim Evidences"
      ]
    },
    {
      "cell_type": "markdown",
      "metadata": {
        "id": "0sS8svwsPojJ"
      },
      "source": [
        ""
      ]
    },
    {
      "cell_type": "markdown",
      "metadata": {
        "id": "S0ahZGBr04cZ"
      },
      "source": [
        "1. Each Ponder I try to do something cool that I find fun, to make the assignment interesting.\n",
        "- Week9 - Used CDL code to generate tree where we can see huffman tree of the primes.\n",
        "- Week10 - Use Matplot lib to graph spanning trees visually.\n",
        "- Week11 - Used graphviz to plot cliques and anti-cliques, also trying using Godel Hashing.\n",
        "- Week12 - N/A\n",
        "- Week13 - Implemented two \"mysterious examples\" mentioned in the articles.\n",
        "\n",
        "2. Each week on the discussion topic, I answer the questions and give a  thorough response to the topic.\n",
        "3. I collaborate with Jack Leung each week, and collaborate with other classmates whenever I can.\n",
        "4. I actively participate and ask questions in class.\n",
        "5. I complete each CDL, DPC, Discussion Topic, and P&P thoroughly ensuring I meet all criteria.\n"
      ]
    },
    {
      "cell_type": "code",
      "metadata": {
        "id": "jy18JiMgPoKY"
      },
      "source": [
        ""
      ],
      "execution_count": null,
      "outputs": []
    }
  ]
}