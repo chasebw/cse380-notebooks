{
 "cells": [
  {
   "cell_type": "markdown",
   "metadata": {},
   "source": [
    "# About Generating Permutations and Combinations\n",
    "## Divide Pair Conquer\n",
    "### Due: Monday, 1 February 2021, 11:59pm\n"
   ]
  },
  {
   "cell_type": "markdown",
   "metadata": {},
   "source": [
    "There are many occasions when you need to *generate* the permutations or\n",
    "combinations of a set, not just count them.\n",
    "\n",
    "There are many algorithms for generating permutations and combinations --- you\n",
    "can find them if you look.\n",
    "\n",
    "For an application, from a biographical sketch about Donald Knuth by Kenneth\n",
    "Rosen, we learn that\n"
   ]
  },
  {
   "cell_type": "markdown",
   "metadata": {},
   "source": [
    "> \"Knuth grew up in Milwaukee, where his father taught bookkeeping at a Lutheran\n",
    "high school and owned a small printing business. He was an excellent student,\n",
    "earning academic achievement awards. He applied his intelligence in\n",
    "unconventional ways, winning a contest when he was in the eighth grade by\n",
    "finding as many words as possible that could be formed from the letters in\n",
    "\n",
    "---\n",
    "\n",
    "> **Ziegler's Giant Bar**.\n",
    "\n",
    "___\n",
    "\n",
    "> This won a television set for his school and a candy bar for everyone in his class.\n"
   ]
  },
  {
   "cell_type": "markdown",
   "metadata": {},
   "source": [
    "Knuth found over 4500 words. How many can **you** find?"
   ]
  },
  {
   "cell_type": "code",
   "execution_count": null,
   "metadata": {},
   "outputs": [],
   "source": [
    "Permutation\n",
    "Letters: 16 Letters\n",
    "Repeated letters: 5\n",
    "Unique letters: 11\n",
    "\n",
    "(number of letters)/(number of repeats of element) ()...)\n",
    "\n",
    "\n"
   ]
  },
  {
   "source": [
    "\n",
    "#filename = \"words_alpha.txt\"\n",
    "# with open(filename) as f:\n",
    "#     content = f.readlines()\n",
    "# content = [x.strip() for x in content] \n",
    "# If you downloaded the file...\n",
    "\n",
    "\n",
    "from urllib.request import urlopen  # the lib that handles the url stuff\n",
    "url = \"https://raw.githubusercontent.com/dwyl/english-words/master/words_alpha.txt\"\n",
    "\n",
    "data = urlopen(url) # it's a file like object and works just like a file\n",
    "for line in data: # files are iterable\n",
    "    content = data.readlines()\n",
    "content = [x.strip().decode(\"utf-8\") for x in content] \n",
    "\n",
    "def check_word(word):\n",
    "    letters = [\"z\",\"i\",\"e\",\"g\",\"l\",\"e\",\"r\",\"s\",\"g\",\"i\",\"a\",\"n\",\"t\",\"b\",\"a\",\"r\"]\n",
    "\n",
    "    for letter in word:\n",
    "        if letter in letters:\n",
    "            letters.remove(letter)\n",
    "        else:\n",
    "            return False\n",
    "    return True\n",
    "\n",
    "good_words = []\n",
    "for word in content:\n",
    "    if(check_word(word.lower())):\n",
    "        good_words.append(word)\n",
    " \n",
    "print(len(good_words))\n",
    "print(good_words[100:200])\n"
   ],
   "cell_type": "code",
   "metadata": {},
   "execution_count": 3,
   "outputs": [
    {
     "output_type": "stream",
     "name": "stdout",
     "text": [
      "5344\n['absterging', 'abstr', 'abt', 'ae', 'aegagri', 'aegean', 'aeger', 'aegerian', 'aegina', 'aegir', 'aegirine', 'aegirite', 'aegis', 'aegle', 'aeneas', 'aer', 'aerage', 'aerate', 'aerates', 'aerating', 'aerial', 'aerialist', 'aerials', 'aerie', 'aerier', 'aeries', 'aeriest', 'aes', 'aesir', 'aestii', 'aet', 'aetian', 'ag', 'aga', 'agag', 'again', 'against', 'agal', 'agalinis', 'agalite', 'agar', 'agars', 'agas', 'agast', 'agate', 'agates', 'agatine', 'agatize', 'agatizes', 'agatizing', 'agaz', 'agaze', 'agba', 'age', 'ageable', 'agee', 'ageing', 'ageings', 'ageist', 'agelast', 'agen', 'agena', 'agene', 'agenes', 'agenesia', 'agenize', 'agenizes', 'agent', 'agential', 'agentries', 'agents', 'ager', 'agers', 'ages', 'aget', 'agete', 'agger', 'aggerate', 'aggers', 'aggest', 'aggie', 'aggies', 'aggrate', 'agib', 'agible', 'agiel', 'agile', 'agin', 'aging', 'agings', 'agist', 'agister', 'agisting', 'agit', 'agitable', 'agla', 'aglare', 'aglee', 'aglet', 'aglets']\n"
     ]
    }
   ]
  },
  {
   "cell_type": "code",
   "execution_count": null,
   "metadata": {},
   "outputs": [],
   "source": []
  }
 ],
 "metadata": {
  "kernelspec": {
   "display_name": "Python 3",
   "language": "python",
   "name": "python3"
  },
  "language_info": {
   "codemirror_mode": {
    "name": "ipython",
    "version": 3
   },
   "file_extension": ".py",
   "mimetype": "text/x-python",
   "name": "python",
   "nbconvert_exporter": "python",
   "pygments_lexer": "ipython3",
   "version": "3.7.6-final"
  }
 },
 "nbformat": 4,
 "nbformat_minor": 4
}