{
  "nbformat": 4,
  "nbformat_minor": 0,
  "metadata": {
    "colab": {
      "name": "13_2_Ponder_and_Prove_Many_Things.ipynb",
      "provenance": [],
      "authorship_tag": "ABX9TyO8IULuqVjJlvplhZWUq5VK",
      "include_colab_link": true
    },
    "kernelspec": {
      "name": "python3",
      "display_name": "Python 3.9.2 64-bit",
      "metadata": {
        "interpreter": {
          "hash": "63fd5069d213b44bf678585dea6b12cceca9941eaf7f819626cde1f2670de90d"
        }
      }
    },
    "language_info": {
      "name": "python",
      "version": "3.9.2-final"
    }
  },
  "cells": [
    {
      "cell_type": "markdown",
      "metadata": {
        "id": "view-in-github",
        "colab_type": "text"
      },
      "source": [
        "<a href=\"https://colab.research.google.com/github/byui-cse/cse380-notebooks/blob/master/13_2_Ponder_and_Prove_Many_Things.ipynb\" target=\"_parent\"><img src=\"https://colab.research.google.com/assets/colab-badge.svg\" alt=\"Open In Colab\"/></a>"
      ]
    },
    {
      "cell_type": "markdown",
      "metadata": {
        "id": "0GZOWnts9NAD"
      },
      "source": [
        "# Ponder and Prove Many Things\n",
        "## Due: Thursday, 1 April 2021, 11:59 pm"
      ]
    },
    {
      "cell_type": "markdown",
      "metadata": {
        "id": "S5XdXGMv9dy4"
      },
      "source": [
        "### Is It Decidable?"
      ]
    },
    {
      "cell_type": "markdown",
      "metadata": {
        "id": "Gzy9wIboAVvi"
      },
      "source": [
        "#### TODO Study and run the code below."
      ]
    },
    {
      "cell_type": "markdown",
      "metadata": {
        "id": "218Qmbtx9lP6"
      },
      "source": [
        "And answer these questions:\n",
        "1. What is this program computing?\n",
        "2. How does it do it?\n",
        "3. Will it ever terminate?"
      ]
    },
    {
      "source": [
        "\n",
        "1. The program is computing something that does not seem obvious. It seems that the two \n",
        "lists and the algorithm together are computing powers of 2 that are primes. We can see that\n",
        "the pattern if we observe the exponents of values printed are all prime.\n",
        "\n",
        "<pre>\n",
        "2^2 = 4\n",
        "2^3 = 8\n",
        "2^5 = 32\n",
        "2^7 = 128\n",
        "2^11 = 2048\n",
        "2^13 = 8192\n",
        "2^17 = 131072\n",
        "2^19 = 524288 \n",
        "2^23 = 8388608\n",
        "</pre>\n",
        "\n",
        "2. It is checking for an interesting link between the two lists.\n",
        "The connection is best described through the comments in the code.\n",
        "The code is going through each 'flibber' and multiplying it by some value\n",
        "i. This value i starts at 2. It is also calculating some value f which\n",
        "is one flibber * i. If that value f does not divide the parallel listed\n",
        "flobber, i is reassigned to a value that is f // flobber\\[n]. Finally, If the exponent\n",
        " on 2 that equals 'i' is an integer it will be printed.\n",
        "\n",
        "3. It does not appear that the function will ever terminate or there is a keyboard interrupt or something of the sort.\n",
        "The program will continue to try to compute each power of 2 with a prime power it seems."
      ],
      "cell_type": "markdown",
      "metadata": {}
    },
    {
      "cell_type": "code",
      "metadata": {
        "id": "LfltDFaw9trA"
      },
      "source": [
        "from math import log2\n",
        "\n",
        "def you_decide():\n",
        "  flibbers = [17,78,19,23,29,77,95,77,1,11,13,15,15,55]\n",
        "  flobbers = [91,85,51,38,33,29,23,19,17,13,11,14,2,1]\n",
        "  i = 2\n",
        "  time_keeps_ticking = True\n",
        "  while time_keeps_ticking:\n",
        "    time_keeps_ticking = False\n",
        "    for n in range(len(flibbers)): # iterate through each flibber\n",
        "     \n",
        "      f = i * flibbers[n] # multiply i by the current flibber\n",
        "\n",
        "      if not f % flobbers[n]: # check if 'f' is not divisable by some flobber\n",
        "        i = f // flobbers[n]  # set the next value of 'i' to the value of 'f' -integer divided- by the parallel listed flobber\n",
        "\n",
        "        p = log2(i) \n",
        "        if p.is_integer(): # check if the exponent on 2 that equals i is an integer\n",
        "          print(i)\n",
        "        time_keeps_ticking = True\n",
        "        break"
      ],
      "execution_count": 23,
      "outputs": []
    },
    {
      "cell_type": "code",
      "metadata": {
        "id": "fGZ9lZCP9xWC"
      },
      "source": [
        "you_decide()"
      ],
      "execution_count": 24,
      "outputs": [
        {
          "output_type": "stream",
          "name": "stdout",
          "text": [
            "4\n",
            "8\n",
            "32\n",
            "128\n",
            "2048\n",
            "8192\n",
            "131072\n",
            "524288\n",
            "8388608\n",
            "536870912\n",
            "2147483648\n",
            "137438953472\n",
            "2199023255552\n",
            "8796093022208\n",
            "140737488355328\n",
            "9007199254740992\n",
            "576460752303423488\n",
            "2305843009213693952\n",
            "147573952589676412928\n",
            "2361183241434822606848\n",
            "9444732965739290427392\n",
            "604462909807314587353088\n"
          ]
        },
        {
          "output_type": "error",
          "ename": "KeyboardInterrupt",
          "evalue": "",
          "traceback": [
            "\u001b[1;31m---------------------------------------------------------------------------\u001b[0m",
            "\u001b[1;31mKeyboardInterrupt\u001b[0m                         Traceback (most recent call last)",
            "\u001b[1;32m<ipython-input-24-7e16ef8f7eca>\u001b[0m in \u001b[0;36m<module>\u001b[1;34m\u001b[0m\n\u001b[1;32m----> 1\u001b[1;33m \u001b[0myou_decide\u001b[0m\u001b[1;33m(\u001b[0m\u001b[1;33m)\u001b[0m\u001b[1;33m\u001b[0m\u001b[1;33m\u001b[0m\u001b[0m\n\u001b[0m",
            "\u001b[1;32m<ipython-input-23-7ee136b8ed75>\u001b[0m in \u001b[0;36myou_decide\u001b[1;34m()\u001b[0m\n\u001b[0;32m     12\u001b[0m       \u001b[0mf\u001b[0m \u001b[1;33m=\u001b[0m \u001b[0mi\u001b[0m \u001b[1;33m*\u001b[0m \u001b[0mflibbers\u001b[0m\u001b[1;33m[\u001b[0m\u001b[0mn\u001b[0m\u001b[1;33m]\u001b[0m \u001b[1;31m# multiply i by the current flibber\u001b[0m\u001b[1;33m\u001b[0m\u001b[1;33m\u001b[0m\u001b[0m\n\u001b[0;32m     13\u001b[0m \u001b[1;33m\u001b[0m\u001b[0m\n\u001b[1;32m---> 14\u001b[1;33m       \u001b[1;32mif\u001b[0m \u001b[1;32mnot\u001b[0m \u001b[0mf\u001b[0m \u001b[1;33m%\u001b[0m \u001b[0mflobbers\u001b[0m\u001b[1;33m[\u001b[0m\u001b[0mn\u001b[0m\u001b[1;33m]\u001b[0m\u001b[1;33m:\u001b[0m \u001b[1;31m# check if 'f' is not divisable by some flobber\u001b[0m\u001b[1;33m\u001b[0m\u001b[1;33m\u001b[0m\u001b[0m\n\u001b[0m\u001b[0;32m     15\u001b[0m         \u001b[0mi\u001b[0m \u001b[1;33m=\u001b[0m \u001b[0mf\u001b[0m \u001b[1;33m//\u001b[0m \u001b[0mflobbers\u001b[0m\u001b[1;33m[\u001b[0m\u001b[0mn\u001b[0m\u001b[1;33m]\u001b[0m  \u001b[1;31m# set the next value of 'i' to the value of 'f' -integer divided- by the parallel listed flobber\u001b[0m\u001b[1;33m\u001b[0m\u001b[1;33m\u001b[0m\u001b[0m\n\u001b[0;32m     16\u001b[0m \u001b[1;33m\u001b[0m\u001b[0m\n",
            "\u001b[1;31mKeyboardInterrupt\u001b[0m: "
          ]
        }
      ]
    },
    {
      "cell_type": "markdown",
      "metadata": {
        "id": "oqZ3784B-EyX"
      },
      "source": [
        "### Fun With Decidability"
      ]
    },
    {
      "cell_type": "markdown",
      "metadata": {
        "id": "aeiVo2WpkySc"
      },
      "source": [
        "#### TODO Read and Share"
      ]
    },
    {
      "cell_type": "markdown",
      "metadata": {
        "id": "i13mpSpd-O39"
      },
      "source": [
        "Read [Can't Decide? Undecide! by Chaim Goodman-Strauss](https://strauss.hosted.uark.edu/papers/decide.pdf)\n",
        "\n",
        "Share six things that you found interesting in this paper.\n",
        "\n",
        "Share six things that you already knew or had heard about before. (These can overlap with the first six.)\n",
        "\n",
        "Write one to two sentences for each of the things you share.\n"
      ]
    },
    {
      "source": [
        "\n",
        "Can’t Decide? Undecide!\n",
        "\n",
        "\n",
        "_________________________\n",
        "Share six things that you found interesting in this paper.\n",
        "\n",
        "1. A tiling is a way of arranging identical shapes so they completely cover an area without,\n",
        "overlapping. I have never heard of \"tiling\" before. However, when you read the definition\n",
        "of the word it is quite self-explanatory.\n",
        "\n",
        "2. Heesch Number is a measure of the complexity of a tile, as the larges combinatorial\n",
        "radius of disks, it can cover. The Heesch number of a shape can also be described as \n",
        "the maximum number of layers of copies of the same shape that can surround it.\n",
        "The Heesch problem is of determining the set of numbers that can be Heesch number.\n",
        "\n",
        "3. A periodic tiling is one on which you can outline the region of the tiling and the tile\n",
        "plane by translating copies of that region without rotating or reflecting.\n",
        "\n",
        "4. A simple problem that takes in an input n which is a counting number. Then\n",
        "each step if it is odd we go to the next number 3n+1 or if it is even n/2 and we \n",
        "halt at n=1. It is curious that there is no obvious means to determine whether the \n",
        "process runs forever or not. You would think to possibly see a patttern, however,\n",
        "it is known that it halts on every input less than 5 * 2^60. This seems like\n",
        "a simple problem yet proving it will halt is curiously difficult.\n",
        "\n",
        "5.  A problem is decidable if there is an algorithm to answer it. If there is not an\n",
        "algorithm to answer it, the problem is undecidable. I did not realize the extent\n",
        "to which we have problems that are undecidable and decidable and examples of these \n",
        "questions such as the mystery problems talked about in this paper.\n",
        "\n",
        "6. The Church-Turing thesis in effect asserts that anything we might mean\n",
        "by computation can be realized by a Turing machine and thus by anything can emulate\n",
        "a Turing Machine. A turing machine to be clear is like finite automata/finite state machines\n",
        "but they have unlimited memory. Turing Machines are capable of simulating common computers.\n",
        "\n",
        "\n",
        "Share six things that you already knew or had heard about before. (These can overlap with the first six.)\n",
        "\n",
        "1. I have heard before that there are certain problems that are undecidable. I\n",
        "have heard of the halting problem before this week and other similar questions.\n",
        "\n",
        "2. I have heard that turing machines can simulate computers and are like the finite automata\n",
        "we study in class, however, I don't know a ton about them.\n",
        "\n",
        "3. Section 3.3 of the paper talks about word ladders, we had a similar dpc a \n",
        "while back where we tried to map words to other words where they can change by \n",
        "one letter. This is similar to a problem we have discussed.\n",
        "\n",
        "4. Conway's game of life just as mentioned in the paper was an assignment I had in the\n",
        "course CS246, I remember it to be challenging in part because I was still learning java\n",
        "and understanding it initially was not obvious.\n",
        "\n",
        "5. I have heard that \"mathematics, as is science, is fundamentally reductionist.\" The\n",
        "The paper says this means that the disparate behavior seen in a wide range of examples into \n",
        "sweeping understanding. It makes something true simplified into a theorem of proof.\n",
        "\n",
        "6. I have heard vaguely of the idea of tiling in which we take a shape and repeat the \n",
        "pattern over and over again when talking about tiling floors however I have not really\n",
        "considered it in a mathematical perspective as the paper does.\n",
        "\n"
      ],
      "cell_type": "markdown",
      "metadata": {}
    },
    {
      "cell_type": "markdown",
      "metadata": {
        "id": "gjeWZ0Mo-r6E"
      },
      "source": [
        "### The Map of Mathematics"
      ]
    },
    {
      "cell_type": "markdown",
      "metadata": {
        "id": "xFFVrRTl-wY9"
      },
      "source": [
        "[The entire field of mathematics summarized in a single map!](https://www.youtube.com/watch?v=OmJ-4B-mS-Y) --- direct link, or embedded below.\n",
        "\n",
        "This video shows how pure mathematics and applied mathematics relate to each other and all of the sub-topics they are made from."
      ]
    },
    {
      "cell_type": "code",
      "metadata": {
        "id": "Wd_Ny-gS-zpk"
      },
      "source": [
        "from IPython.display import YouTubeVideo\n",
        "YouTubeVideo('OmJ-4B-mS-Y') # 11 minutes 5 seconds"
      ],
      "execution_count": null,
      "outputs": []
    },
    {
      "cell_type": "markdown",
      "metadata": {
        "id": "8PD-pimc-1dk"
      },
      "source": [
        "#### TODO Watch and Share"
      ]
    },
    {
      "cell_type": "markdown",
      "metadata": {
        "id": "9WIEkJ0p-9JD"
      },
      "source": [
        "Share six things that you found interesting in this video.\n",
        "\n",
        "Share six things that you already knew or had heard about before. (These can overlap with the first six.)\n",
        "\n",
        "Write one to two sentences for each of the things you share.\n"
      ]
    },
    {
      "source": [
        "The Map of Mathematics \n",
        "\n",
        "\n",
        "Share six things that you found interesting in this video.\n",
        "\n",
        "\n",
        "1. I think it is interesting that the origin of mathematics lies in counting. \n",
        "It is also mentioned that other animals are able to count as well. Meaning this is\n",
        "not exclusive to humans. So it is possible that animals can do math.\n",
        "\n",
        "2. I think it is interesting how far back math goes from caveman with tick marks, Egyptians\n",
        "having the first equations and Greeks having studied in geometry and numerology. It shows\n",
        "how long it has existed and we can think of how far it has come. Yet there are still\n",
        "problems that exist today that we cannot solve or do not know if we can ever solve.\n",
        "\n",
        "3. I think it is interesting that there have been instances of studying pure mathematics \n",
        "with theories and new concepts that in general had no immediate or obvious use case. \n",
        "Then it is later taken and used in applied mathematics as individuals push farther in \n",
        "their relative fields and they find math some math useful and relevant to what they\n",
        "are applying it to. \n",
        "\n",
        "4. I found it interesting that they talking about a field of math as structures. \n",
        "I have studied matrices, algebra, equations, vectors, linear algebra, and such however \n",
        "I was not aware that it belongs to a field of math known as structures.\n",
        "\n",
        "5. I found it interesting how much of the map of mathematics was covered in this class, DM2,\n",
        "such as number systems, number theory, trees, graph theory, matrices, integers, equations,\n",
        "combinatorics, and much more and it demonstrates clearly the obvious power and use of \n",
        "mathematics and that mathematics has many parts and there is much to learn. The area I \n",
        "believe I have likely studied the least is probably spaces, trigonometry, and geometry. \n",
        "I studied these subjects in high school and middle school long ago yet this seems not to\n",
        "be as big of a focus in computer science.\n",
        "\n",
        "6. One interesting area in the space field of math is topology. I have seen various\n",
        "numberphile videos that talk about various shapes like Mobius strips and other shapes. \n",
        "They seem very interesting ideas, but understanding their utility is still puzzling to me.\n",
        "I think it is curious how they make statements like a coffee cup and a donut are the same \n",
        "thing topologically speaking they both have 1 hole.\n",
        "\n",
        "7. I have heard the idea of Axioms of mathematics. The video talks about a branch of\n",
        "mathematics known as the foundations. Which are all the fundamental rules that we base\n",
        "mathematics on. I think this is an interesting idea. Probably one item I find\n",
        "most interesting in the foundation's branch of mathematics is set theory especially \n",
        "as it relates to Godel hashes and storing information inside primes. I think it is \n",
        "also curious that Godel Incompleteness theorems mean that for most  that\n",
        "math does not have a complete and consistent set of axioms. This can mean that math\n",
        "is essentially all made up by us humans. This is curious because something humans made\n",
        "up seems to describe the world very well.\n",
        "\n",
        "8. I think it is interesting the point the narrator makes in the video of how something\n",
        "in your brain kind of clicks when you learn something in mathematics. It is like you\n",
        "just understood something new about the universe. That something new you learned has \n",
        "power and can be utilized and applied to something and explain something as it is \n",
        "reduced to some theory, rule, idea, or concept. It is great.\n",
        "\n",
        "\n",
        "Share six things that you already knew or had heard about before. (These can overlap with the first six.)\n",
        "\n",
        "\n",
        "1. I have not heard the idea of animals counting but more so I have seen evidence of \n",
        "animals doing math specifically monkeys doing the addition of 3 digit numbers which I found\n",
        "curious and they were also very quick at it faster than myself.\n",
        "\n",
        "2. I have heard of the two areas of math that are referred two in the video. Pure math\n",
        "is the study of mathematics for its own sake. And applied mathematics which is math developed\n",
        "to solve some real-world problems. The latter seems more interesting, however, I know\n",
        "they often crossover because there are many connections in our world to math.'\n",
        "\n",
        "3. I have of course heard about the various sets of numbers: integers, natural numbers, \n",
        "negative numbers, rational numbers, real numbers, complex numbers, Quaternions, cardinal\n",
        "numbers, however, there are some that I have not heard of like Octonion numbers however, I\n",
        "could guess. I believe I was making a unity game and a Three.js game and both involved using\n",
        "Quaternions for the player you use to move around. It is quite interesting how math connects\n",
        "even to some of the things we enjoy.\n",
        "\n",
        "4. They also mentioned in the video the prime numbers and some of their properties as well\n",
        "as the cardinality of some of the sets of numbers in which we spent a good amount of time\n",
        "studying and understanding for a few weeks. From those weeks we took away the idea that\n",
        "some infinities are bigger than other infinities or some infinite sets are larger than others\n",
        "and we can prove that.\n",
        "\n",
        "5. I have not heard that calculus belongs to the branch of mathematics known as changes.\n",
        "However, one of the subjects I found most interesting was calculus with its derivatives\n",
        "and integrals. I found it very useful, powerful, and interesting, and have seen its many \n",
        "applications in things like Machine Learning algorithms and physics, and other items.\n",
        "\n",
        "6. Things I have heard in applied mathematics include items like probability, which we\n",
        "covered in this class by looking at things like Bayes theorem. Which was explicitly mentioned\n",
        "in the video. I of course of heard of computer science as that is the major of most of the\n",
        "students in the class. Understanding how computer science relates to Turing machines is \n",
        "an interesting concept I am seeing mentioned over and over that I do partly know but \n",
        "do not fully understand. I understand that a Turing machine can simulate most simple \n",
        "computers and understanding Turing machines are useful. Machine learning is another\n",
        "area in applied mathematics that I find curious it explicitly shows a picture of a neural\n",
        "network which are very interesting and powerful structures themselves. Machine learning\n",
        "uses so many topics mentioned in Discrete math from set theory, graph theory, probability,\n",
        "number systems, and many other things which interesting seeing it all applied.\n",
        "\n",
        "7. It mentions cryptography which we study in DM1 and DM2. We specifically looked at RSA, \n",
        "and understand that was very helpful. As we started looking at public key encryption, \n",
        "symmetric key encryption, and other items in my computer networks class when talking about\n",
        "computer security. The very topics I choose to study on my own in those given weeks \n",
        "proved useful is understand topics in my computer networks class. Cryptography is a \n",
        "valuable and interesting topic that is very important today to protect us from prying individuals. \n",
        "\n",
        "\n",
        "\n"
      ],
      "cell_type": "markdown",
      "metadata": {}
    },
    {
      "cell_type": "markdown",
      "metadata": {
        "id": "nfxMo9bl_TZA"
      },
      "source": [
        "### The Map of Computer Science"
      ]
    },
    {
      "cell_type": "markdown",
      "metadata": {
        "id": "bM9Dst0d_tIW"
      },
      "source": [
        "[The field of computer science similarly summarized.](https://www.youtube.com/watch?v=SzJ46YA_RaA) --- direct link, or embedded below."
      ]
    },
    {
      "cell_type": "code",
      "metadata": {
        "id": "LnBJvrbi_xIp"
      },
      "source": [
        "from IPython.display import YouTubeVideo\n",
        "YouTubeVideo('SzJ46YA_RaA') # 10 minutes 57 seconds"
      ],
      "execution_count": null,
      "outputs": []
    },
    {
      "cell_type": "markdown",
      "metadata": {
        "id": "5194ShLd_zjU"
      },
      "source": [
        "#### TODO Watch and Share"
      ]
    },
    {
      "cell_type": "markdown",
      "metadata": {
        "id": "zTI_XHCU_1HW"
      },
      "source": [
        "Share six things that you found interesting in this video.\n",
        "\n",
        "Share six things that you already knew or had heard about before. (These can overlap with the first six.)\n",
        "\n",
        "Write one to two sentences for each of the things you share."
      ]
    },
    {
      "source": [
        "\n",
        "\n",
        "Map of Computer Science\n",
        "\n",
        "\n",
        "Share six things that you found interesting in this video.\n",
        "\n",
        "1. We built computers to expand our brains. I think this is an interesting concept as \n",
        "it is very true. A computer is something we use to make our brains more useful, it \n",
        "expands the knowledge we already have by its amount of power. The original purpose of\n",
        "a computer was to solve arithmetic, however today it does way more than that it is how\n",
        "we think, work, and do everything, it is an expansion of us whether that is through our\n",
        "phone or PC.\n",
        "\n",
        "2. I find the idea of a Turing machine interesting. A Turing machine is described as \n",
        "the simple description of a general-purpose computer. The Turing machine is the foundation\n",
        "of computer science. A Turing machine contains several parts an infinitely long \n",
        "tape that is split into cells containing symbols like 0 or 1, and a head that \n",
        "can read and write symbols to the tape, a state register that stores the state of the head\n",
        "and a list of possible instructions. It is interesting that a computer can be simplified\n",
        "to something like this. As we often look at modern computer architecture and don't \n",
        "necessarily see it so simply.\n",
        "\n",
        "3. It is interesting that every problem that is computable by a turing machine is computable\n",
        "using lambda calculus. This is curious because this is what basis of research is used in \n",
        "programming languages. Meaning this is what they study to determine modern programming\n",
        "languages and consider to make them better.\n",
        "\n",
        "4. I think there is an interesting definition given for an algorithm which is defined as \n",
        "a set of instructions independent of the hardware or programming language. This meaning that\n",
        "the steps to solve a problem are what an algorithm is not the programmic implementation of\n",
        "it. It is like a recipe for how to build a program. Algorithms are interesting because\n",
        "they are what we use to get the best or most out of computers. This study is called\n",
        "algorithmic complexity. I haven't taken that class yet, but will next semester \n",
        "and I am very curious to learn more about it.\n",
        "\n",
        "5. I took the computer architecture class like many others a while back where we \n",
        "discussed the different types of processors we might use. We discussed CPU, GPUs, \n",
        "FPGAs and other items we might use to computer gave problems and why certain\n",
        "computer devices are better for given scenarios because of the data they are handling\n",
        "differs as well as the operations on them. This is very interesting because it shows\n",
        "that we need the right hardware to run a program well not just the right software.\n",
        "This is an obvious statement, but it is the reason why both are important.\n",
        "\n",
        "6. I think is interesting that what is discussed id how at the forefront of computer \n",
        "science research is developing computer systems that can think for themselves or AI.\n",
        "There is a very interesting youtube channel that shows numerous applications and \n",
        "examples of breakthroughs in AI which is called \"two-minute papers\" on youtube. It is\n",
        "a very interesting channel that discusses the leap and bounds that are being made in\n",
        "various areas. Many of which talk about AI and others about efficient algorithms. \n",
        "Very interesting as well is areas like computer vision. We see self-driving cars and\n",
        "object detection systems that are useful. I took a computer vision class here and a\n",
        "machine learning course in which my group was able to train a region-based convolutional\n",
        "neural net to see certain objects and identify them. This was a very fun and interesting\n",
        "project and the algorithms seem like magic essentially.\n",
        "\n",
        "\n",
        "Share six things that you already knew or had heard about before. \n",
        "(These can overlap with the first six.)\n",
        "\n",
        "\n",
        "1. I have often heard this humorous idea in working with a group of individuals. They\n",
        "often state we are computers ourselves when we are writing software that are simply \n",
        "just flipping a bunch of binary digits. We are simply flipping 0's and 1's. Which is \n",
        "true but not in reality what is really going on. \n",
        "\n",
        "2. I have heard ideas like we have more computing power in our cellphone than there was \n",
        "in the rocket that the first man on the moon. Along with that, the video mentions the idea\n",
        "that our cell phone has more computing power than there was in the entire world in the \n",
        "1960's which is astounding.\n",
        "\n",
        "3. I have heard of a Turing machine, however, I didn't initially connect the concept of what\n",
        "it is to the name. Turing machines are interesting as we can see the computer components \n",
        "there. We can see the infinite tape of the Turing machine like the RAM in a computer and the\n",
        "head like the central processing unit. The list of instructions we can see as stored in \n",
        "computer memory. It is interesting that we can simplify a computer down to these few \n",
        "pieces mentioned in a Turing machine.\n",
        "\n",
        "4. After this week we have discussed ideas in computability theory, specifically mentioning\n",
        "certain problems like the halting problem that can never be solved by a computer. To \n",
        "predict whether a program will stop running is what the halting problem discusses.\n",
        "\n",
        "5. The video talks about a branch of computer science known as information theory. We \n",
        "specifically look at how information is compression used a Huffman tree. If you\n",
        "investigate Huffman encoding we can see that files are often zipped up using this technique.\n",
        "It is interesting to compress data and make it take up less memory. We can do this by\n",
        "preserving all or most of the information. This is interesting because normally we think\n",
        "to reserve all the information, but most of the information is also an interesting \n",
        "approach to compressing items, which we hear about with different file types like\n",
        ".jpg, .png, .giff, and such.\n",
        "\n",
        "6. I am taking the operating systems class at the same time. The discussion of computer\n",
        "engineering is a good review of what we had discussed this semester. We have discussed\n",
        "multi-processing, threading, process-scheduling, disk-scheduling, and other items. We have\n",
        "discussed different scheduling algorithms and how we use multiprocessors to schedule various\n",
        "processes on an operating system.\n",
        "\n"
      ],
      "cell_type": "markdown",
      "metadata": {}
    },
    {
      "cell_type": "markdown",
      "metadata": {
        "id": "fPu3fWgR_3hI"
      },
      "source": [
        "### SKIP Report"
      ]
    },
    {
      "cell_type": "markdown",
      "metadata": {
        "id": "JoO9lagO_5lt"
      },
      "source": [
        "The sentences you have already (supposedly) written will suffice."
      ]
    },
    {
      "cell_type": "markdown",
      "metadata": {
        "id": "shpEERFS_87F"
      },
      "source": [
        "### SKIP Self-Assessment"
      ]
    },
    {
      "cell_type": "markdown",
      "metadata": {
        "id": "yWvKYeqc__bX"
      },
      "source": [
        "Instead, you will have ilearn peer reviews to complete."
      ]
    }
  ]
}