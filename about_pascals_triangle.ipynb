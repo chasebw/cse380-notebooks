{
 "cells": [
  {
   "cell_type": "markdown",
   "metadata": {},
   "source": [
    "# About Pascal’s Triangle\n",
    "## Class Directed Learning\n",
    "### Due: Tuesday, 2 February 2021, 11:59 pm"
   ]
  },
  {
   "cell_type": "markdown",
   "metadata": {},
   "source": [
    "## A Helper Function\n",
    "Exercise 253 on page 161 shows a recursive definition of `nCk`. Here's a much more efficient way to compute binomial coefficients, which perhaps you can profitably use in your investigations:\n"
   ]
  },
  {
   "cell_type": "code",
   "execution_count": 2,
   "metadata": {},
   "outputs": [],
   "source": [
    "from math import gcd\n",
    "\n",
    "def nCk(n, k):\n",
    "  if k < 0 or k > n:\n",
    "    return 0\n",
    "  else:\n",
    "    result = 1\n",
    "    d = 1\n",
    "    g = 1\n",
    "    m = min(k, n - k)\n",
    "    while (d <= m):\n",
    "      g = gcd(result, d)\n",
    "      result = n * (result // g)\n",
    "      result = (result // (d // g))\n",
    "      n -= 1\n",
    "      d += 1\n",
    "    return result"
   ]
  },
  {
   "cell_type": "markdown",
   "metadata": {},
   "source": [
    "## Predominant and Fundamental\n",
    "The predominant pattern, the fundamental symmetry in Pascal's triangle is captured by the identity:\n",
    "$${n \\choose k} = {n \\choose n - k}$$\n",
    "## Identify Identities\n",
    "Here are two different identities that point out the same pattern in Pascal's triangle. What is the name of this pattern?\n",
    "### Identity 1\n",
    "For nonnegative integers $r$ and $n$:\n",
    "$$\\sum^n_{k=0} {r+k \\choose k} = {r+n+1 \\choose n}$$\n",
    "### Identity 2\n",
    "For nonnegative integers $m$ and $n$:\n",
    "$$\\sum^n_{k=0} {k \\choose m} = {n+1 \\choose m+1}$$"
   ]
  },
  {
   "cell_type": "markdown",
   "metadata": {},
   "source": [
    "# Investigate A Possible Relationship\n",
    "Does any row in Pascal's Triangle have the Fibonacci numbers' relationship between three consecutive entries? In other words, where x, y, and z are three consecutive entries in a single row, does x + y = z?\n",
    "\n",
    "  The number of rows where this relationship could possibly hold is:\n",
    "  - [ ] Zero.\n",
    "  - [x] At least one.\n",
    "  - [ ] At most one.\n",
    "  - [ ] Exactly one.\n",
    "  - [ ] It cannot be determined."
   ]
  },
  {
   "cell_type": "code",
   "execution_count": 50,
   "metadata": {
    "tags": []
   },
   "outputs": [
    {
     "output_type": "stream",
     "name": "stdout",
     "text": [
      "Pascal Rows:\n[[1], [1, 1], [1, 2, 1], [1, 3, 3, 1], [1, 4, 6, 4, 1], [1, 5, 10, 10, 5, 1], [1, 6, 15, 20, 15, 6, 1], [1, 7, 21, 35, 35, 21, 7, 1], [1, 8, 28, 56, 70, 56, 28, 8, 1], [1, 9, 36, 84, 126, 126, 84, 36, 9, 1]]\n\nFib sequences in pascal: \n[[[1001, 2002, 3003]], [[22956818528739263209286805945, 38261364214565438682144676575, 61218182743304701891431482520]]]\n"
     ]
    }
   ],
   "source": [
    "def printRow(myrange):\n",
    "    num = myrange\n",
    "    t_array = []\n",
    "    for y in range(myrange+1):\n",
    "        t_array.append(nCk(num,y))\n",
    "        # print(nCk(num,y), \" \", end=\"\")\n",
    "    return t_array\n",
    "    \n",
    "\n",
    "p_array = []\n",
    "for z in range(200):\n",
    "    p_array.append(printRow(z))\n",
    "\n",
    "print(\"Pascal Rows:\")\n",
    "print(p_array[:10])\n",
    "\n",
    "def check_seq(l):\n",
    "    fib = []\n",
    "    for x in range(2,len(l)):\n",
    "        if(len(l) > 2):\n",
    "            if(l[x] == l[x-1] + l[x-2]):\n",
    "                fib.append([l[x-2],l[x-1],l[x]])\n",
    "                #print(l[x-2],l[x-1],l[x])\n",
    "    return fib\n",
    "\n",
    "\n",
    "fib = []\n",
    "for x in p_array:\n",
    "    if(len(check_seq(x)) > 0):\n",
    "        fib.append(check_seq(x))\n",
    "\n",
    "print()\n",
    "print(\"Fib sequences in pascal: \")\n",
    "print(fib)"
   ]
  },
  {
   "cell_type": "markdown",
   "metadata": {},
   "source": [
    "# Investigate Another Possible Relationship\n",
    "Does any row in Pascal's Triangle have three consecutive entries in the ratio 1:2:3? (12:24:36 is an example of three numbers in a 1:2:3 ratio.)?\n",
    "\n",
    "  The number of rows where this relationship could possibly hold is:\n",
    "  - [ ] Zero.\n",
    "  - [ ] At least one.\n",
    "  - [ ] At most one.\n",
    "  - [x] Exactly one.\n",
    "  - [ ] It cannot be determined."
   ]
  },
  {
   "source": [
    "rat = []\n",
    "for x in range(1,3001):\n",
    "    rat.append([x,x*2,x*3])\n",
    "print(\"ratios\")\n",
    "#print(rat)\n",
    "\n",
    "def check_ratio(l):\n",
    "    length = len(l)\n",
    "    r_array = []\n",
    "    if(length > 2):\n",
    "        for x in range(2,length):\n",
    "            if([l[x],l[x-1],l[x-2]] in rat):\n",
    "                print([l[x],l[x-1],l[x-2]])\n",
    "\n",
    "for x in p_array:\n",
    "    check_ratio(x)"
   ],
   "cell_type": "code",
   "metadata": {
    "tags": []
   },
   "execution_count": 77,
   "outputs": [
    {
     "output_type": "stream",
     "name": "stdout",
     "text": [
      "ratios\n[1001, 2002, 3003]\n"
     ]
    }
   ]
  }
 ],
 "metadata": {
  "kernelspec": {
   "display_name": "Python 3",
   "language": "python",
   "name": "python3"
  },
  "language_info": {
   "codemirror_mode": {
    "name": "ipython",
    "version": 3
   },
   "file_extension": ".py",
   "mimetype": "text/x-python",
   "name": "python",
   "nbconvert_exporter": "python",
   "pygments_lexer": "ipython3",
   "version": "3.7.6-final"
  }
 },
 "nbformat": 4,
 "nbformat_minor": 4
}