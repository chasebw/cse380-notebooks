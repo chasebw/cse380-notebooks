{
  "nbformat": 4,
  "nbformat_minor": 0,
  "metadata": {
    "colab": {
      "name": "09_2_Ponder_and_Prove_Data_Compression.ipynb",
      "provenance": [],
      "include_colab_link": true
    },
    "kernelspec": {
      "name": "python3",
      "display_name": "Python 3.9.2 64-bit",
      "metadata": {
        "interpreter": {
          "hash": "63fd5069d213b44bf678585dea6b12cceca9941eaf7f819626cde1f2670de90d"
        }
      }
    }
  },
  "cells": [
    {
      "cell_type": "markdown",
      "metadata": {
        "id": "view-in-github",
        "colab_type": "text"
      },
      "source": [
        "<a href=\"https://colab.research.google.com/github/byui-cse/cse380-notebooks/blob/master/09_2_Ponder_and_Prove_Data_Compression.ipynb\" target=\"_parent\"><img src=\"https://colab.research.google.com/assets/colab-badge.svg\" alt=\"Open In Colab\"/></a>"
      ]
    },
    {
      "cell_type": "markdown",
      "metadata": {
        "id": "1rG4k7VvQ2WT"
      },
      "source": [
        "# Ponder and Prove Data Compression\n",
        "#### Due: Saturday, 6 March 2021, 11:59 pm."
      ]
    },
    {
      "cell_type": "markdown",
      "metadata": {
        "id": "W0WxE3IAQ2WU"
      },
      "source": [
        "# TODO Explore Huffman Trees and Huffman Codes\n"
      ]
    },
    {
      "cell_type": "markdown",
      "metadata": {
        "id": "w2vby9erSjOv"
      },
      "source": [
        "Your task is examine how to compress a *special piece of information* as compactly as possible, and **calculate various compression ratios**.\n",
        "\n",
        "Recall that the **compression ratio** of a variable-length encoding like Huffman encoding is the percentage $100(f - v)/f$, where $f$ is the number of bits per symbol of the smallest **fixed**-length encoding, and $v$ is the average number of bits per symbol with the variable-length encoding.\n",
        "\n",
        "For example, if there were 9 different symbols in a message, $f=4$ is the number of bits of the smallest fixed-length encoding, because $2^3 = 8$ (not enough for $9$) and $2^4 = 16$ (enough and to spare). If the variable-length encoding of the message had $v=3.12$, the compression ratio would be $100(4 - 3.12)/4 \\approx 22\\%$.\n",
        "\n",
        "Note that calculating the average number of bits per symbol is not strictly necessary. That's because an alternate and equivalent way is to calculate $100(ft - vt)/ft$, where $ft$ is the **total** number of bits encoded with the fixed encoding, and $vt$ is the **total** number of bits encoded with the variable-length encoding.\n",
        "\n",
        "The *special piece of information* to be compressed is a list of the first ten million primes. This is a list that starts\n",
        "\n",
        "|    |\n",
        "|----|\n",
        "|  2 |\n",
        "|  3 |\n",
        "|  5 |\n",
        "|  7 |\n",
        "| 11 |\n",
        "| 13 |\n",
        "| 17 |\n",
        "| 19 |\n",
        "| 23 |\n",
        "| 29 |\n",
        "\n",
        "  and ends\n",
        "\n",
        "|           |\n",
        "|-----------|\n",
        "| 179424551 |\n",
        "| 179424571 |\n",
        "| 179424577 |\n",
        "| 179424601 |\n",
        "| 179424611 |\n",
        "| 179424617 |\n",
        "| 179424629 |\n",
        "| 179424667 |\n",
        "| 179424671 |\n",
        "| 179424673 |\n",
        "\n",
        "As ASCII text stored in a file with one prime per line, the size of this data file is slightly over 89 megabytes. The goal is to compress this down to just over 5 megabytes (5589056 bytes, to be exact). That's a 94% compression ratio!\n",
        "\n",
        "Standard compression tools can only get about a 73% compression ratio for this ASCII data. A more clever approach is needed. Instead of compressing the list of prime numbers, compress a list of the *gaps* between them!\n",
        "\n",
        "It doesn't save much, just the unique (occurring only once) gap size of 1 between 2 and 3, but in the spirit of de Polignac's conjecture that every *even* number appears infinitely often as a gap between consecutive primes, just consider the even-sized gaps. The result will be a list that starts with 2 (the difference between 5 and 3), 2 (the difference between 7 and 5), 4 (the difference between 11 and 7), 2 (the difference between 13 and 11), 4 (the difference between 17 and 13), 2 (the difference between 19 and 17), 4 (the difference between 23 and 19), and 6 (the difference between 29 and 23).\n",
        "\n",
        "Generating this data is the first task. The algorithm for doing so is very straightforward:\n",
        "\n",
        "1. Find the gaps between consecutive odd primes.\n",
        "2. Store these gaps as a list of even numbers.\n",
        "\n",
        "Tabulating the results, the first ten gaps and the last ten gaps are as follows, where the numbers after the equals signs are the gaps to list:\n",
        "\n",
        "|                 |\n",
        "|-----------------|\n",
        "|  5  -   3  =  2 |\n",
        "|  7  -   5  =  2 |\n",
        "| 11  -   7  =  4 |\n",
        "| 13  -  11  =  2 |\n",
        "| 17  -  13  =  4 |\n",
        "| 19  -  17  =  2 |\n",
        "| 23  -  19  =  4 |\n",
        "| 29  -  23  =  6 |\n",
        "| 31  -  29  =  2 |\n",
        "| 37  -  31  =  6 |\n",
        "\n",
        "|                                |\n",
        "|--------------------------------|\n",
        "| 179424551  -  179424533  =  18 |\n",
        "| 179424571  -  179424551  =  20 |\n",
        "| 179424577  -  179424571  =   6 |\n",
        "| 179424601  -  179424577  =  24 |\n",
        "| 179424611  -  179424601  =  10 |\n",
        "| 179424617  -  179424611  =   6 |\n",
        "| 179424629  -  179424617  =  12 |\n",
        "| 179424667  -  179424629  =  38 |\n",
        "| 179424671  -  179424667  =   4 |\n",
        "| 179424673  -  179424671  =   2 |\n",
        "\n",
        "As a correctness check, see if your generated list of gaps has length 9999998.\n",
        "\n",
        "The next step is to count how many times each gap size occurs, so that for the Huffman encoding scheme, the larger the frequency of occurrence, the smaller the number of bits encoding that gap size.\n",
        "\n",
        "As a correctness check, here are the first ten and the last ten gap counts:\n",
        "\n",
        "|  Gap | Count   |\n",
        "|------|---------|\n",
        "|    2 |  738597 |\n",
        "|    4 |  738717 |\n",
        "|    6 | 1297540 |\n",
        "|    8 |  566151 |\n",
        "|   10 |  729808 |\n",
        "|   12 |  920661 |\n",
        "|   14 |  503524 |\n",
        "|   16 |  371677 |\n",
        "|   18 |  667734 |\n",
        "|   20 |  354267 |\n",
        "|      |         |\n",
        "|  190 |       1 |\n",
        "|  192 |       3 |\n",
        "|  194 |       1 |\n",
        "|  196 |       1 |\n",
        "|  198 |       6 |\n",
        "|  202 |       2 |\n",
        "|  204 |       3 |\n",
        "|  210 |       4 |\n",
        "|  220 |       1 |\n",
        "|  222 |       1 |\n",
        "\n",
        "Note two things from these partial gap counts:\n",
        "\n",
        "1. Small even numbers (< 100) are well represented, larger ones (< 1000) less so.\n",
        "2. Ten million primes aren't enough to have *every* even number represented; for example, 200, 206, 208, 212, 214, 216, and 218 do not appear even once.\n"
      ]
    },
    {
      "source": [
        "from pyprimesieve import primes\n",
        "import numpy as np\n",
        "ten_millionth_prime = 179424673\n",
        "\n",
        "first_ten_million_primes = list(primes(ten_millionth_prime+1))\n",
        "\n",
        "def list_the_gaps(n):\n",
        "    return list(map(lambda i: n[i]-n[i-1],range(2,len(n))))\n",
        "\n",
        "gaps = list_the_gaps(first_ten_million_primes)\n",
        "\n",
        "#numpy array of primes\n",
        "np_gaps = np.array(gaps) \n",
        "# Count unique elements\n",
        "unique, counts = np.unique(np_gaps, return_counts=True)\n",
        "gap_counts = dict(zip(unique, counts))\n",
        "\n",
        "\n",
        "print(f\"First Ten million primes array length: {len(first_ten_million_primes)}\\n\")\n",
        "print(f\"Gaps between first 10 million primes array length: {len(gaps)}\\n\")\n",
        "print(f\"Ten millionth prime: {first_ten_million_primes[10000000 - 1]}\")\n",
        "\n",
        "print(f\"The count of gaps: \\n\\n{gap_counts}\")"
      ],
      "cell_type": "code",
      "metadata": {},
      "execution_count": 17,
      "outputs": [
        {
          "output_type": "stream",
          "name": "stdout",
          "text": [
            "First Ten million primes array length: 10000000\n\nGaps between first 10 million primes array length: 9999998\n\nTen millionth prime: 179424673\nThe count of gaps: \n\n{2: 738597, 4: 738717, 6: 1297540, 8: 566151, 10: 729808, 12: 920661, 14: 503524, 16: 371677, 18: 667734, 20: 354267, 22: 307230, 24: 453215, 26: 211203, 28: 229177, 30: 398713, 32: 123123, 34: 129043, 36: 206722, 38: 94682, 40: 111546, 42: 159956, 44: 64866, 46: 54931, 48: 93693, 50: 52183, 52: 38800, 54: 64157, 56: 32224, 58: 27985, 60: 55305, 62: 16763, 64: 17374, 66: 30960, 68: 12368, 70: 17475, 72: 17255, 74: 8540, 76: 7253, 78: 13758, 80: 6760, 82: 4791, 84: 9818, 86: 3411, 88: 3454, 90: 7056, 92: 2259, 94: 2058, 96: 3544, 98: 1831, 100: 1923, 102: 2374, 104: 1168, 106: 933, 108: 1634, 110: 941, 112: 711, 114: 1125, 116: 439, 118: 433, 120: 948, 122: 287, 124: 318, 126: 533, 128: 183, 130: 211, 132: 301, 134: 128, 136: 100, 138: 210, 140: 140, 142: 90, 144: 123, 146: 46, 148: 67, 150: 94, 152: 52, 154: 43, 156: 57, 158: 19, 160: 27, 162: 27, 164: 20, 166: 9, 168: 25, 170: 18, 172: 4, 174: 10, 176: 11, 178: 12, 180: 10, 182: 5, 184: 4, 186: 3, 188: 1, 190: 1, 192: 3, 194: 1, 196: 1, 198: 6, 202: 2, 204: 3, 210: 4, 220: 1, 222: 1}\n"
          ]
        }
      ]
    },
    {
      "cell_type": "markdown",
      "metadata": {
        "id": "7CUIw8_k03JJ"
      },
      "source": [
        "# TODO Determine Exact Size of Data to be Compressed\n"
      ]
    },
    {
      "cell_type": "markdown",
      "metadata": {
        "id": "wB4sXf0X09Gv"
      },
      "source": [
        "Without actually doing it, imagine creating an ASCII file containing the first ten million primes, represented in decimal, one prime per line. Calculate the size of this file, so you can show an exceptional compression ratio from it (see below).\n",
        "\n",
        "Using a binary encoding instead of ASCII, each prime requires 32 bits (4 bytes), so the size of a binary file is easily determined.\n",
        "\n",
        "Using a fixed-width encoding of the gap counts, however, requires knowing how many different gap sizes there are, after which the calculation is straightforward."
      ]
    },
    {
      "cell_type": "code",
      "execution_count": 18,
      "metadata": {},
      "outputs": [
        {
          "output_type": "stream",
          "name": "stdout",
          "text": [
            "File size: 89.15371894836426\n"
          ]
        }
      ],
      "source": [
        "from pyprimesieve import primes\n",
        "import numpy as np\n",
        "from math import floor\n",
        "from math import log10\n",
        "\n",
        "ten_millionth_prime = 179424673\n",
        "primes = list(primes(ten_millionth_prime+1))\n",
        "\n",
        "def get_num_digits(n):\n",
        "    return floor(log10(n)) + 1\n",
        "\n",
        "ten_million = 10000000 \n",
        "primes = first_ten_million_primes\n",
        "\n",
        "# Get the size of the digits, each one has a variable length\n",
        "total_size_in_digits = sum(map(lambda p: get_num_digits(p), primes))\n",
        "new_lines = 10 ** 7\n",
        "megabyte = 2 ** 20\n",
        "\n",
        "total_size_in_bits = total_size_in_digits * 8\n",
        "\n",
        "mbs = (total_size_in_digits + new_lines) / megabyte\n",
        "print(f\"File size: {mbs}\")"
      ]
    },
    {
      "cell_type": "markdown",
      "metadata": {
        "id": "9HZChUyC09tJ"
      },
      "source": [
        "# TODO Use Functional Python\n"
      ]
    },
    {
      "cell_type": "markdown",
      "metadata": {
        "id": "j7vG1XqY1CaV"
      },
      "source": [
        "You are encouraged to use the [anytree](https://pypi.org/project/anytree) Python library, which has a nice exporter by way of which you can graphically view trees. (You may recall using this in DM1, and thus know that **anytree** depends on [graphviz](https://graphviz.org), which you also used.)\n",
        "\n",
        "This library uses the object-oriented features of Python to create and visualize trees. You are encouraged to use the functional features of Python as much as possible, achieving your results not by using some existing third-party libraries for building Huffman Trees and Codes, but writing your own code as cleanly and elegantly as you can."
      ]
    },
    {
      "cell_type": "code",
      "execution_count": 19,
      "metadata": {},
      "outputs": [
        {
          "output_type": "stream",
          "name": "stdout",
          "text": [
            "How many gaps: 104\nBits needed: 7\n"
          ]
        }
      ],
      "source": [
        "from math import ceil\n",
        "from math import log2\n",
        "\n",
        "print(f\"How many gaps: {len(gap_counts)}\")\n",
        "bits_needed = ceil(log2(104)) \n",
        "print(f\"Bits needed: {bits_needed}\")"
      ]
    },
    {
      "cell_type": "code",
      "execution_count": 20,
      "metadata": {},
      "outputs": [],
      "source": [
        "from pyprimesieve import primes\n",
        "\n",
        "ten_millionth_prime = 179424673\n",
        "primes = list(primes(ten_millionth_prime+1))"
      ]
    },
    {
      "cell_type": "code",
      "execution_count": 21,
      "metadata": {},
      "outputs": [],
      "source": [
        "from collections import Counter\n",
        "from math import log\n",
        "\n",
        "def list_the_gaps(n):\n",
        "    return list(map(lambda i: n[i]-n[i-1],range(2,len(n))))\n",
        "\n",
        "def get_counted_list_sorted(full_list_of_gaps):\n",
        "    return Counter(full_list_of_gaps).most_common()\n",
        "\n",
        "# Returns array of Xth element in array of tuples \n",
        "def only_xth_elements_in_array_of_tuples(list_of_tuples, x_element):\n",
        "    x_element -=1\n",
        "    grab_x_element = lambda x: x[x_element]\n",
        "    return [*map(grab_x_element, list_of_tuples)]\n",
        "\n",
        "get_num_digits = lambda n: len(str(n))\n",
        "\n",
        "def num_digits_in_elements(list):\n",
        "    return [*map(get_num_digits, list)]\n",
        "\n",
        "full_list_of_gaps = list_the_gaps(primes)\n",
        "sorted_gaps_frequencies = get_counted_list_sorted(full_list_of_gaps)\n",
        "num_gaps = len(sorted_gaps_frequencies)\n",
        "\n",
        "gaps = only_xth_elements_in_array_of_tuples(sorted_gaps_frequencies, 1)\n",
        "freqs = only_xth_elements_in_array_of_tuples(sorted_gaps_frequencies, 2)\n",
        "\n",
        "num_digits_in_gaps = num_digits_in_elements(gaps)\n",
        "ascii_sizes_in_bits = [*map(lambda x: (x+1) *8, num_digits_in_gaps)] # 8 bits per character + 1 endline\n",
        "total_ascii_size = sum([*map(lambda x: (get_num_digits(x) + 1) * 8,primes)]) # add endline * 8 bits\n"
      ]
    },
    {
      "source": [
        "### Used code from CDL"
      ],
      "cell_type": "markdown",
      "metadata": {}
    },
    {
      "cell_type": "code",
      "execution_count": 22,
      "metadata": {},
      "outputs": [],
      "source": [
        "from anytree import Node, RenderTree, PreOrderIter, Walker\n",
        "from anytree.util import leftsibling, rightsibling\n",
        "from anytree.exporter.dotexporter import DotExporter\n",
        "from collections import Counter\n",
        "from queue import PriorityQueue\n",
        "from math import ceil, floor, log\n",
        "from sympy import primerange\n",
        "\n",
        "def realprimes_up_to(n):\n",
        "  return list(primerange(4, n))\n",
        "\n",
        "def get_list_of_gaps(pl):\n",
        "  gaps_list = list(map(lambda i: pl[i] - pl[i - 1], range(1, len(pl))))\n",
        "  gaps_list = [2] + gaps_list # [2] for the gap between 3 and 5\n",
        "  return gaps_list\n",
        "\n",
        "class GapNode(Node):\n",
        "  def __lt__(self, other):\n",
        "    return self.count < other.count\n",
        "\n",
        "node_counter = 0\n",
        "def next_node_name(gp):\n",
        "  global node_counter\n",
        "  name = 'gn' + str(node_counter) + '_' + str(gp)\n",
        "  node_counter += 1\n",
        "  return name\n",
        "\n",
        "def new_node(gp, ct):\n",
        "  return GapNode(next_node_name(gp), gap = gp, count = ct)\n",
        "\n",
        "def new_internal_node(left, right):\n",
        "  return GapNode(next_node_name(0), children = [left, right],\n",
        "                 gap = 0, count = left.count + right.count)\n",
        "\n",
        "def make_huffman_tree(gaps_list):\n",
        "  gap_dict = Counter(gaps_list)\n",
        "  q = PriorityQueue()\n",
        "  for key, val in gap_dict.items():\n",
        "    q.put(new_node(key, val))\n",
        "\n",
        "  while q.qsize() > 1:\n",
        "    left = q.get()\n",
        "    right = q.get()\n",
        "    q.put(new_internal_node(left, right))\n",
        "\n",
        "  return q.get()\n",
        "\n",
        "def get_codes(root):\n",
        "  leaves = [node for node in PreOrderIter(root, filter_=lambda n: not n.children)]\n",
        "  codes = {}\n",
        "  w = Walker()\n",
        "  for leaf in leaves:\n",
        "    path = w.walk(leaf, root)[0]\n",
        "    code = ''\n",
        "    for node in path:\n",
        "      code = ('1' if leftsibling(node) else '0') + code\n",
        "    codes[leaf.gap] = tuple([code, leaf.count])\n",
        "  return codes\n",
        "\n",
        "def compression_ratio(f, v):\n",
        "  return 100 * (f - v) / f\n",
        "\n",
        "def get_encoded_size(codes):\n",
        "  return sum([len(code) * count for gap, (code, count) in codes.items()])\n",
        "\n",
        "def get_fixed_size(codes):\n",
        "  num_keys = len(codes)\n",
        "  num_bits_per_key = ceil(log(num_keys, 2))\n",
        "  return sum([num_bits_per_key * count for gap, (code, count) in codes.items()])\n",
        "\n",
        "def report(codes):\n",
        "  return compression_ratio(get_fixed_size(codes), get_encoded_size(codes))\n",
        "\n",
        "def test_up_to(primes, upper, results):\n",
        "  list_of_gaps = get_list_of_gaps(primes[:upper])\n",
        "  #print(primes[:upper])\n",
        "  #print(list_of_gaps)\n",
        "  root = make_huffman_tree(list_of_gaps)\n",
        "  #print(RenderTree(root))\n",
        "  DotExporter(root).to_picture(f'gap-tree-{upper:02d}.png')\n",
        "  codes = get_codes(root)\n",
        "  print(upper, '-->', get_encoded_size(codes))\n",
        "  cr = round(report(codes))\n",
        "  results[upper - 1] = cr # adjust since upper is the number of primes, -1 to make it just odd primes"
      ]
    },
    {
      "cell_type": "code",
      "execution_count": 23,
      "metadata": {},
      "outputs": [],
      "source": [
        "codes = get_codes(make_huffman_tree(full_list_of_gaps))"
      ]
    },
    {
      "cell_type": "code",
      "execution_count": 24,
      "metadata": {},
      "outputs": [
        {
          "output_type": "stream",
          "name": "stdout",
          "text": [
            "From Fixed:  36.12516865360516\nfrom Binary:  86.03\nFrom ASCII:  94.02\n"
          ]
        }
      ],
      "source": [
        "total_characters = len(full_list_of_gaps) \n",
        "total_unique_characters = len(gaps)\n",
        "total_bits = sum([*map(lambda x: freqs[x] * len(codes.get(gaps[x])[0]), range(len(freqs)))]) \n",
        "fixed_bits_per_character = ceil(log(total_unique_characters + 1, 2)) # TODO fixed bits per character ???\n",
        "total_fixed_bits = total_characters * fixed_bits_per_character\n",
        "\n",
        "compression_rat = (total_fixed_bits - total_bits) / total_fixed_bits\n",
        "#print(f\"compression_ratio: {compression_rat}\\n\") \n",
        "print(f\"From Fixed:  {compression_rat * 100}\")\n",
        "print(f\"from Binary:  {(((9999998 * 32) - total_bits) / (9999998 * 32) * 100):.2f}\")\n",
        "print(f\"From ASCII:  {((total_ascii_size - total_bits) / total_ascii_size)* 100 :.2f}\")"
      ]
    },
    {
      "cell_type": "markdown",
      "metadata": {
        "id": "8Vw71EqJ18eE"
      },
      "source": [
        "Your solution should correctly compute the following three compression ratios:\n",
        "\n",
        "| Ratio       | Value              |\n",
        "|-------------|--------------------|\n",
        "| From fixed  | 36.125168653605158 |\n",
        "| From binary |              86.03 |\n",
        "| From ASCII  |              94.02 | \n"
      ]
    },
    {
      "cell_type": "code",
      "execution_count": 25,
      "metadata": {},
      "outputs": [
        {
          "output_type": "stream",
          "name": "stdout",
          "text": [
            "179424674 --> 44712402\n"
          ]
        }
      ],
      "source": [
        "ten_millionth_prime = 179424673\n",
        "results = {}\n",
        "test_up_to(primes, ten_millionth_prime+1,results)"
      ]
    },
    {
      "source": [
        "<img src=\"gap-tree-179424674.png\" alt=\"image_of_tree_gotten_after_running_code\">"
      ],
      "cell_type": "markdown",
      "metadata": {}
    },
    {
      "cell_type": "markdown",
      "metadata": {
        "id": "81dbKwHenxnT"
      },
      "source": [
        "# TODO My Report on What I Did and What I Learned"
      ]
    },
    {
      "cell_type": "markdown",
      "metadata": {
        "id": "C8BeiIern33B"
      },
      "source": [
        "## Fun\n"
      ]
    },
    {
      "cell_type": "markdown",
      "metadata": {
        "id": "ElukRLoezyxd"
      },
      "source": [
        "I had fun with this assignment. I forgot exactly how you choose the codes for Huffman trees so I had to review that item since it has been a semester since DM1. I explored that until I understood fixed-length encodings and variable-length encodings. I think the code given to us by Br. Neff for the CDL is very helpful. I didn't realize it did all the items relating to the Huffman tree. Also, to see anytree render the picture of the gaps of primes is pretty awesome. "
      ]
    },
    {
      "cell_type": "markdown",
      "metadata": {
        "id": "OzOkZ3son-u9"
      },
      "source": [
        "## New"
      ]
    },
    {
      "cell_type": "markdown",
      "metadata": {
        "id": "3-nYIdEUz4x5"
      },
      "source": [
        "I relearned Huffman Trees/Encoding I remembered 80% of it. I also learned further how to write functional python. I did my best to understand how to use certain tools I don't always use such as lambda, map, and other items. I try to regularly use items I don't usually so I become more familiar with them and can utilize them when needed."
      ]
    },
    {
      "cell_type": "markdown",
      "metadata": {
        "id": "mJHvoj6GokaZ"
      },
      "source": [
        "## Meaningful\n"
      ]
    },
    {
      "cell_type": "markdown",
      "metadata": {
        "id": "XOxh3XFTz-6N"
      },
      "source": [
        "I was able to understand encoding and how it can be useful. Collin from class shared a post about Huffman encoding. It talked about how Huffman encoding is used in compressing files. I am curious to find out that when I get a job if I run into encoding problems where I can utilize the knowledge I have gained. Also learning about Huffman trees helps me feel more confident in working with trees which is sometimes more tricky."
      ]
    },
    {
      "cell_type": "markdown",
      "metadata": {
        "id": "_RBE03fhpNUG"
      },
      "source": [
        "## Other"
      ]
    },
    {
      "cell_type": "markdown",
      "metadata": {
        "id": "d-sXEeq60C3W"
      },
      "source": [
        "Connections: The main connections I made with something I already knew related to just knowledge of data structures, seeing how a Huffman tree can be formed by using a priority queue or sorting the list by the most frequently occurring items or some priority is interesting. Understanding the structure of why the Huffman tree is encoded in certain ways and the algorithm for assigning codes based on the count of some value is interesting and I enjoyed learning about it because it is a clever and beautiful algorithm.\n",
        "\n",
        "Collaborator: I worked with Jack Leung we shared our ideas. Compared our answers and conclusions we came to until we felt confident our answers were correct and that we did well."
      ]
    },
    {
      "cell_type": "markdown",
      "metadata": {
        "id": "Nrk-8EmgW4NP"
      },
      "source": [
        "# TODO What is True?\n",
        "Click on each warranted checkbox to toggle it to True (or back to False). \n",
        "\n",
        "NOTE: *This only works in Colab. If you run it in some other Jupyter notebook client/server environment you may have to change False to True (or vice versa) manually.*\n",
        "\n",
        "This self-assessment is subject to revision by a grader."
      ]
    },
    {
      "cell_type": "code",
      "metadata": {
        "id": "qGAjzgVRXR4M"
      },
      "source": [
        "#@markdown ## What is True about what I did?\n",
        "#@markdown ### I had fun.\n",
        "cb00 = True #@param {type:'boolean'}\n",
        "#@markdown ### I learned something new.\n",
        "cb01 = True #@param {type:'boolean'}\n",
        "#@markdown ### I achieved something meaningful, or something I can build upon at a later time.\n",
        "cb02 = True #@param {type:'boolean'}\n",
        "#@markdown ## What is True about my report?\n",
        "#@markdown ### I wrote a sufficient number of well-written sentences.\n",
        "cb03 = True #@param {type:'boolean'}\n",
        "#@markdown ### My report is free of mechanical infelicities.\n",
        "cb04 = True #@param {type:'boolean'}\n",
        "#@markdown ### I used Grammarly (or something better described in my report) to check for MIs.\n",
        "cb05 = True #@param {type:'boolean'}\n",
        "#@markdown ### I reported on any connections I found between these problems and something I already know. \n",
        "cb06 = True #@param {type:'boolean'}\n",
        "#@markdown ### I reported who were and what contribution each of my collaborators made.\n",
        "cb07 = True #@param {type:'boolean'}\n",
        "#@markdown ## What is True about my calculations?\n",
        "#@markdown ### I correctly calculated the number of times each gap size occurs. \n",
        "cb08 = True #@param {type:'boolean'}\n",
        "#@markdown ### I correctly calculated the number of bits per gap size with a fixed encoding.\n",
        "cb09 = True #@param {type:'boolean'}\n",
        "#@markdown ### I correctly calculated the total number of bits encoded with the Huffman encoding.\n",
        "cb10 = True #@param {type:'boolean'}\n",
        "#@markdown ### I correctly calculated the total number of bits encoded with the fixed encoding.\n",
        "cb11 = True #@param {type:'boolean'}\n",
        "#@markdown ### I correctly calculated the compression ratio from this fixed encoding.\n",
        "cb12 = True #@param {type:'boolean'}\n",
        "#@markdown ### I correctly calculated the size of the first ten million primes encoded as 32-bit integer binary data.\n",
        "cb13 = True #@param {type:'boolean'}\n",
        "#@markdown ### I correctly calculated the compression ratio from the binary size.\n",
        "cb14 = True #@param {type:'boolean'}\n",
        "#@markdown ### I correctly calculated the size of the first ten million primes encoded as ASCII data.\n",
        "cb15 = True #@param {type:'boolean'}\n",
        "#@markdown ### I correctly calculated the compression ratio from the ASCII size (just the primes, nothing else).\n",
        "cb16 = True #@param {type:'boolean'}"
      ],
      "execution_count": 26,
      "outputs": []
    },
    {
      "cell_type": "markdown",
      "metadata": {
        "id": "q8KESLBANSkC"
      },
      "source": [
        "## DO NOT CHANGE ANYTHING IN THE NEXT CODE CELL!!\n",
        "### Delete this cell and the following ones before submitting your work."
      ]
    },
    {
      "cell_type": "code",
      "metadata": {
        "id": "rJ_vaL0DWwoc"
      },
      "source": [
        "points_for_what_I_did = [5]*3\n",
        "points_for_my_report = [8]*5\n",
        "points_for_my_calculations = [5]*9\n",
        "points = points_for_what_I_did + points_for_my_report + points_for_my_calculations\n",
        "# cb is short for checkbox\n",
        "total = sum(map(lambda n, p: p if eval(f'cb{n:02}') else 0,\n",
        "                range(len(points)), points))             \n",
        "total"
      ],
      "execution_count": 27,
      "outputs": [
        {
          "output_type": "execute_result",
          "data": {
            "text/plain": [
              "100"
            ]
          },
          "metadata": {},
          "execution_count": 27
        }
      ]
    },
    {
      "cell_type": "markdown",
      "metadata": {
        "id": "muxeYgQQKGEU"
      },
      "source": [
        "# For graders"
      ]
    },
    {
      "cell_type": "code",
      "metadata": {
        "id": "c0ldoieNKMTU"
      },
      "source": [
        "#@markdown ---\n",
        "number_of_MIs_found = 0 #@param {type: 'slider', min: 0, max: 5}\n",
        "#@markdown ---\n"
      ],
      "execution_count": 28,
      "outputs": []
    }
  ]
}