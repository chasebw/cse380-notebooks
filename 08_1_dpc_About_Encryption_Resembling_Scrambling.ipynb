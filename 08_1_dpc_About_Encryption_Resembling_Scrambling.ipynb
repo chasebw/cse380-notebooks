{
  "nbformat": 4,
  "nbformat_minor": 0,
  "metadata": {
    "colab": {
      "name": "08_1_About_Encryption_Resembling_Scrambling.ipynb",
      "provenance": [],
      "include_colab_link": true
    },
    "kernelspec": {
      "name": "python3",
      "display_name": "Python 3.9.2 64-bit",
      "metadata": {
        "interpreter": {
          "hash": "63fd5069d213b44bf678585dea6b12cceca9941eaf7f819626cde1f2670de90d"
        }
      }
    }
  },
  "cells": [
    {
      "cell_type": "markdown",
      "metadata": {
        "id": "view-in-github",
        "colab_type": "text"
      },
      "source": [
        "<a href=\"https://colab.research.google.com/github/chasebw/cse380-notebooks/blob/master/08_1_dpc_About_Encryption_Resembling_Scrambling.ipynb\" target=\"_parent\"><img src=\"https://colab.research.google.com/assets/colab-badge.svg\" alt=\"Open In Colab\"/></a>"
      ]
    },
    {
      "cell_type": "markdown",
      "metadata": {
        "id": "R41Y5Uaav8pu"
      },
      "source": [
        "# About Encryption Resembling Scrambling\n",
        "## Divide Pair Conquer\n",
        "### Due: Monday, 22 February 2021, 11:59 pm"
      ]
    },
    {
      "cell_type": "markdown",
      "metadata": {
        "id": "gSgt80RdwuCJ"
      },
      "source": [
        "## Introduction"
      ]
    },
    {
      "cell_type": "markdown",
      "metadata": {
        "id": "Qdv9SxTAwzAe"
      },
      "source": [
        "### Encryption is Like Scrambling"
      ]
    },
    {
      "cell_type": "markdown",
      "metadata": {
        "id": "33t5wnxNw8Qp"
      },
      "source": [
        "#### Perfect Shuffling"
      ]
    },
    {
      "cell_type": "code",
      "metadata": {
        "id": "jcgt2qMEw-7e"
      },
      "source": [
        "def shuffle(deck):\n",
        "  mid = len(deck) // 2\n",
        "  tuples = list(zip(deck[:mid], deck[mid:]))\n",
        "  return [i for sub in tuples for i in sub]\n",
        "\n",
        "deck0 = ['As', '2s', '3s', '4s', '5s', '6s', '7s', '8s', '9s', '10s', 'Js', 'Qs', 'Ks',\n",
        "         'Ah', '2h', '3h', '4h', '5h', '6h', '7h', '8h', '9h', '10h', 'Jh', 'Qh', 'Kh',\n",
        "         'Ac', '2c', '3c', '4c', '5c', '6c', '7c', '8c', '9c', '10c', 'Jc', 'Qc', 'Kc',\n",
        "         'Ad', '2d', '3d', '4d', '5d', '6d', '7d', '8d', '9d', '10d', 'Jd', 'Qd', 'Kd']\n",
        "\n",
        "deck1 = shuffle(deck0)\n",
        "deck2 = shuffle(deck1)\n",
        "deck3 = shuffle(deck2)\n",
        "deck4 = shuffle(deck3)\n",
        "deck5 = shuffle(deck4)\n",
        "deck6 = shuffle(deck5)\n",
        "deck7 = shuffle(deck6)\n",
        "deck8 = shuffle(deck7)"
      ],
      "execution_count": null,
      "outputs": []
    },
    {
      "cell_type": "code",
      "metadata": {
        "id": "adz3z9-7xH-S"
      },
      "source": [
        "deck0 == deck8"
      ],
      "execution_count": null,
      "outputs": []
    },
    {
      "cell_type": "code",
      "metadata": {
        "id": "LpbepDCuyUnw"
      },
      "source": [
        "deck5"
      ],
      "execution_count": null,
      "outputs": []
    },
    {
      "cell_type": "markdown",
      "metadata": {
        "id": "7FK5C1j5x48S"
      },
      "source": [
        "### What is the PCS Cryptosystem?\n",
        "(Perfect Card Shuffling)\n",
        "\n",
        "1. Get a new deck of cards.\n",
        "2. Choose a number, say 5 (this is your encryption key).\n",
        "3. Write a message, one character per card on your original deck.\n",
        "4. Perfect shuffle the deck 5 times.\n",
        "5. Send the shuffled deck to your friend.\n",
        "6. Your friend does (8 - 5 = 3) perfect shuffles to get the original order back."
      ]
    },
    {
      "cell_type": "markdown",
      "metadata": {
        "id": "UwvpbU4Lwzva"
      },
      "source": [
        "### How Does RSA Scramble?"
      ]
    },
    {
      "cell_type": "markdown",
      "metadata": {
        "id": "u_L0a4HyxZG6"
      },
      "source": [
        "Look at how RSA encryption shuffles/scrambles numbers (say the number 10) with some (very) small primes (say 2 and 11) and the smallest possible encryption exponent (3)."
      ]
    },
    {
      "cell_type": "code",
      "metadata": {
        "id": "5bu0pHFPxUKj"
      },
      "source": [
        "pow(10, 3, 2 * 11)"
      ],
      "execution_count": null,
      "outputs": []
    },
    {
      "cell_type": "markdown",
      "metadata": {
        "id": "FNhZGKBIxz8a"
      },
      "source": [
        "### Alternatively"
      ]
    },
    {
      "cell_type": "markdown",
      "metadata": {
        "id": "RYDJF01vx3Q3"
      },
      "source": [
        "What about with 3 and 11?"
      ]
    },
    {
      "cell_type": "code",
      "metadata": {
        "id": "b9GLFPRWx6pP"
      },
      "source": [
        "pow(10, 3, 33)"
      ],
      "execution_count": null,
      "outputs": []
    },
    {
      "cell_type": "markdown",
      "metadata": {
        "id": "4wxQamU-yACz"
      },
      "source": [
        "### Save Typing"
      ]
    },
    {
      "cell_type": "code",
      "metadata": {
        "id": "mqsYWl5CyCCa"
      },
      "source": [
        "for m in range(22):\n",
        "  c = pow(m, 3, 22)\n",
        "  print(m, c, m == c)"
      ],
      "execution_count": null,
      "outputs": []
    },
    {
      "cell_type": "code",
      "metadata": {
        "id": "NtH0zIouyRrG"
      },
      "source": [
        "for m in range(33):\n",
        "  c = pow(m, 3, 33)\n",
        "  print(m, c, m == c)"
      ],
      "execution_count": null,
      "outputs": []
    },
    {
      "cell_type": "markdown",
      "metadata": {
        "id": "P4XjVdpbyVO6"
      },
      "source": [
        "### Tabulate"
      ]
    },
    {
      "cell_type": "markdown",
      "metadata": {
        "id": "6bgQTBzSyYLV"
      },
      "source": [
        "Count how many scramblings are **not** derangements."
      ]
    },
    {
      "cell_type": "markdown",
      "metadata": {
        "id": "AXZC_waAyfWn"
      },
      "source": [
        "#### Definition"
      ]
    },
    {
      "cell_type": "markdown",
      "metadata": {
        "id": "LHLY0n3Ayg-g"
      },
      "source": [
        "A *derangement* is a permutation where no element is left in its original position."
      ]
    },
    {
      "cell_type": "code",
      "metadata": {
        "id": "ZHJpGswbypA_"
      },
      "source": [
        "from math import gcd\n",
        "from sympy import prime\n",
        "\n",
        "def find_first_e(n, t):\n",
        "  for e in range(3, n):\n",
        "    if gcd(e, t) == 1:\n",
        "      return e\n",
        "  return None\n",
        "\n",
        "headers = '| p | q | n | t | e | # |/| n |=|   %  |\\n'\\\n",
        "          '|---|---|---|---|---|---|-|---|-|------|'\n",
        "\n",
        "print(headers)\n",
        "\n",
        "for i in range(1, 9):\n",
        "  for j in range(i + 1, 9):\n",
        "    p, q = prime(i), prime(j)\n",
        "    n = p * q\n",
        "    t = (p - 1) * (q - 1)\n",
        "    e = find_first_e(n, t)\n",
        "    num = sum(map(lambda m: m == pow(m, e, n), range(0, n)))\n",
        "    print(f'|{p}|{q}|{n}|{t}|{e}|{num}|/|{n}|=|{num/n/.01:.2f}|')"
      ],
      "execution_count": null,
      "outputs": []
    },
    {
      "cell_type": "markdown",
      "metadata": {
        "id": "Wc7xgPsR0nGU"
      },
      "source": [
        "## Your DPC Tasks"
      ]
    },
    {
      "cell_type": "markdown",
      "metadata": {
        "id": "kkhscGNe0uBe"
      },
      "source": [
        "### TODO Investigate"
      ]
    },
    {
      "cell_type": "markdown",
      "metadata": {
        "id": "QRnG8WwI0xce"
      },
      "source": [
        "Why is 65537 ($2^{16} + 1$) typically used as **e**, the encryption exponent?"
      ]
    },
    {
      "cell_type": "markdown",
      "metadata": {
        "id": "zx3wQ24m2J0j"
      },
      "source": [
        "65537 is a commonly used value for e, many regard it as a compromise\n",
        "between avoiding  potential small exponent attacks and still allowing\n",
        "efficient encryptions or signature verification.\n",
        "\n",
        "It is also 1 more than a power of two. Which makes it really efficient.\n",
        "\n",
        " \n",
        "The customary value of e was chosen for efficiency. Also, there aren’t many choices for similar values of e. Because it consists mostly of squarings.\n",
        "\n",
        "\n",
        "## Sources:\n",
        "\n",
        "- Source 1:\n",
        "https://en.wikipedia.org/wiki/RSA_(cryptosystem)\n",
        "\n",
        "- Source 2:\n",
        "https://www.johndcook.com/blog/2018/12/12/rsa-exponent/#:~:text=In%20practice%2C%20the%20most%20common,power%20consists%20mostly%20of%20squarings%20%E2%80%A6\n"
      ]
    },
    {
      "cell_type": "code",
      "metadata": {
        "id": "CVHEKvBr1BDk",
        "outputId": "fb23c0f2-b9a6-49ec-d7bf-19e1781a5c23"
      },
      "source": [
        "e = 2 ** 16 + 1\n",
        "(e, bin(e))"
      ],
      "execution_count": null,
      "outputs": [
        {
          "output_type": "execute_result",
          "data": {
            "text/plain": [
              "(65537, '0b10000000000000001')"
            ]
          },
          "metadata": {
            "tags": []
          },
          "execution_count": 1
        }
      ]
    },
    {
      "cell_type": "markdown",
      "metadata": {
        "id": "Fnh3to5K2L1m"
      },
      "source": [
        "$\\color{red}{\\text{Awesome!}}$"
      ]
    },
    {
      "cell_type": "markdown",
      "metadata": {
        "id": "EIGjniwq09De"
      },
      "source": [
        "### TODO Explore"
      ]
    },
    {
      "cell_type": "markdown",
      "metadata": {
        "id": "acs-QjkD1PP6"
      },
      "source": [
        "The book gives some very vague constraints on **p** and **q**, the two primes used in RSA.\n",
        "\n",
        "Research the criteria the security community uses to judge the goodness (suitability) of these two primes, that in practice are randomly chosen.\n",
        "\n",
        "What is bad about the choice of **p** and **q** in this next cell?"
      ]
    },
    {
      "cell_type": "code",
      "metadata": {
        "id": "K1CkvoOi1hIB"
      },
      "source": [
        "p = 5179195214309\n",
        "q = 5179195214311\n",
        "n = p * q\n",
        "t = (p - 1) * (q - 1)\n",
        "e = 65537\n",
        "d = 17826498662743824930707633\n",
        "m = 5179195214304\n",
        "c = pow(m, e, n)\n",
        "m_again = pow(c, d, n)\n",
        "(c, m_again, m == m_again)"
      ],
      "execution_count": null,
      "outputs": []
    },
    {
      "cell_type": "markdown",
      "metadata": {
        "id": "3t8S7JQm2J0m"
      },
      "source": [
        "## Criteria:\n",
        "\n",
        "- The prime number in binary is represented  in more than 256 bits or larger than 2^256. This would be around a 78 digit number or larger.\n",
        "\n",
        "- The largest prime factor of p-1 is large. Large in this case means it is represented with >=100 binary bits. This would be a number around 2^100. This is a 31 digit number.\n",
        "\n",
        "-  The largest prime factor of p+1 is large.  Large in this case means it is represented with >=100 binary bits. This would be a number around 2^100. This is a 31 digit number.\n",
        "\n",
        "- The largest prime factor of p-2 is large. Large in this case means it is represented with >=100 binary bits. This would be a number around 2^100. This is a 31 digit number.\n",
        "\n",
        "-  p and q should be similar in magnitude but differ in length by a few digits to make factoring harder.\n",
        "\n",
        "- p and q should be chosen at random.\n",
        "\n",
        "- The primes are not obvious. (They are only 2 apart)\n",
        "\n",
        "##Source Used:\n",
        "\n",
        "- Section 4: What is a strong prime?\n",
        "https://people.csail.mit.edu/rivest/pubs/RS01.version-1999-11-22.pdf\n",
        "\n",
        "- Another Source I read:\n",
        "https://www.di-mgt.com.au/rsa_alg.html\n",
        "\n",
        "\n",
        "- Another Source:\n",
        "https://en.wikipedia.org/wiki/RSA_(cryptosystem)"
      ]
    },
    {
      "cell_type": "markdown",
      "metadata": {
        "id": "odWBbAkk2OQh"
      },
      "source": [
        "$\\color{red}{\\text{Really good!}}$"
      ]
    },
    {
      "cell_type": "markdown",
      "metadata": {
        "id": "HGkkAweX2OLM"
      },
      "source": [
        ""
      ]
    },
    {
      "cell_type": "markdown",
      "metadata": {
        "id": "OCGpVDCv141v"
      },
      "source": [
        "### Bonus"
      ]
    },
    {
      "cell_type": "markdown",
      "metadata": {
        "id": "F8zaiIcQ16F3"
      },
      "source": [
        "From Wikipedia:\n",
        "\n",
        "\n",
        "\n",
        "> The earliest known statement of the [Chinese Remainder Theorem], as a problem with specific numbers, appears in the 3rd-century book *Sun-tzu Suan-ching* by the Chinese mathematician Sun-tzu:\n",
        "\n",
        "> There are certain things whose number is unknown. If we count them by threes,we have two left over; by fives, we have three left over; and by sevens, two are left over. How many things are there?\n",
        "\n",
        "\n"
      ]
    },
    {
      "cell_type": "markdown",
      "metadata": {
        "id": "UQGbqaRl2M8D"
      },
      "source": [
        "Can you solve this by hand?\n",
        "  \n",
        "That is, with just pencil and paper?"
      ]
    },
    {
      "cell_type": "markdown",
      "metadata": {
        "id": "Mwmo7Zmy2J0n"
      },
      "source": [
        "\n",
        "<pre>\n",
        "\n",
        "Notes: \n",
        "Example of how to do it.\n",
        "\n",
        "The moduli have to be coprime to one another.\n",
        "\n",
        "\n",
        "x = 2 (mod 3)\n",
        "x = 2 (mod 4)\n",
        "x = 2 (mod 5)\n",
        "\n",
        "find x\n",
        "\n",
        "\n",
        "       3         4           5 \n",
        "x = 4  * 5   + 3 * 5    +  3 * 4   \n",
        "\n",
        "x = 20 + 15 * 3 * 2 + 36\n",
        "\n",
        "x = 146\n",
        "x = 86\n",
        "x = 26 (mod 60)\n",
        "\n",
        "\n",
        "\n",
        "\n",
        "x = 1 mod 3\n",
        "x = 1 mod 4\n",
        "x = 1 mod 5\n",
        "x = 0 mod 7\n",
        "\n",
        "\n",
        "\n",
        "\n",
        "# Product of other moduli\n",
        "\n",
        "M_1 = 4 * 5 * 7  //exclude 3 moduli\n",
        "M_2 = 3 * 5 * 7 // exclude 4 moduli\n",
        "M_3 = 3 * 4 * 7 // exclude 5 moduli\n",
        "M_4 = 3 * 4 * 5 // exclude 7 moduli\n",
        "\n",
        "\n",
        "M_1 = 140 \n",
        "M_2 = 105\n",
        "M_3 = 84\n",
        "M_4 = 60\n",
        "\n",
        "Make the remainder match for each value found\n",
        "Euclidean division is required in some cases for big numbers.\n",
        "\n",
        "y1 = 140 = 1 mod 3 y1 = 2\n",
        "y2 = 105 = 1 mod 4 y2 = 1\n",
        "y3 = 84  = 1 mod 5 y3 = 4\n",
        "y4 = 60  = 1 mod 7 y4 = 2\n",
        "\n",
        "A_1 * M_1 * Y_1 + ...\n",
        "\n",
        "140 * 2 + 105 * 1 + 84 * 4\n",
        "\n",
        "336\n",
        "105\n",
        "280\n",
        "\n",
        "721 - 420\n",
        "\n",
        "301 in answer.\n",
        "\n",
        "\n",
        "\n",
        "\n",
        "\n",
        "x = 2 mod 3 \n",
        "x = 3 mod 5\n",
        "x = 2 mod 7\n",
        "\n",
        "\n",
        "3 * 5 * 7\n",
        "15 * 7 = 105\n",
        "\n",
        "3      5      7\n",
        "5*7 + 3*7  + 3*5\n",
        "\n",
        "#force teach one to match the remainder 2,3,2:\n",
        "\n",
        "35 + 21 * 3  + 15 * 2\n",
        "\n",
        "128\n",
        "23\n",
        "</pre>\n"
      ]
    },
    {
      "cell_type": "code",
      "metadata": {
        "id": "wvenq8Q92J0n",
        "outputId": "02ac832a-212d-4e08-ce98-9caf851845ae"
      },
      "source": [
        "35 + 21 * 3  + 15 * 2\n",
        "128 - 105\n",
        "# You can subtract 105 because that is the product of the moduli (3,5,7) and any value\n",
        "# of 128 with a difference of 128 will work. We normally take the smallest as the solution.\n",
        "# 23"
      ],
      "execution_count": null,
      "outputs": [
        {
          "output_type": "execute_result",
          "data": {
            "text/plain": [
              "23"
            ]
          },
          "metadata": {
            "tags": []
          },
          "execution_count": 4
        }
      ]
    },
    {
      "cell_type": "markdown",
      "metadata": {
        "id": "GqUAPCat2U1t"
      },
      "source": [
        "$\\color{red}{\\text{Nice!}}$"
      ]
    },
    {
      "cell_type": "markdown",
      "metadata": {
        "id": "qjkhcHRi2Vg8"
      },
      "source": [
        "How about this one?\n",
        "\n",
        "Find all solutions, if any, to the system of congruences:\n",
        "\n",
        "$x \\equiv_{6} 5$\n",
        "\n",
        "$x \\equiv_{10} 3$\n",
        "\n",
        "$x \\equiv_{15} 8$\n"
      ]
    },
    {
      "cell_type": "markdown",
      "metadata": {
        "id": "cPtcNhGG2Yt5"
      },
      "source": [
        "Challenge yourselves to figure this out without using a computer.\n",
        "\n",
        "(You can use a calculator, but not its programmability, if it has it!)"
      ]
    },
    {
      "cell_type": "markdown",
      "metadata": {
        "id": "AwQuIgw35KrD"
      },
      "source": [
        "#### Hint"
      ]
    },
    {
      "cell_type": "markdown",
      "metadata": {
        "id": "9QqSobla5MWE"
      },
      "source": [
        "You cannot apply the Chinese Remainder Theorem directly, because the moduli are not pairwise coprime. Try using that consequence of the CRT that you used last week to translate these congruences into a set of congruences that together are equivalent to the given ones."
      ]
    }
  ]
}