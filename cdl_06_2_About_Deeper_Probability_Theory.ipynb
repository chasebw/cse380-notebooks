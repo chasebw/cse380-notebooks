{
  "nbformat": 4,
  "nbformat_minor": 0,
  "metadata": {
    "colab": {
      "name": "06_2_About_Deeper_Probability_Theory.ipynb",
      "provenance": [],
      "authorship_tag": "ABX9TyOo1NbPzJ5XTdVOW3gmz7Db",
      "include_colab_link": true
    },
    "kernelspec": {
      "name": "python3",
      "display_name": "Python 3",
      "language": "python"
    }
  },
  "cells": [
    {
      "cell_type": "markdown",
      "metadata": {
        "id": "view-in-github",
        "colab_type": "text"
      },
      "source": [
        "<a href=\"https://colab.research.google.com/github/byui-cse/cse380-notebooks/blob/master/06_2_About_Deeper_Probability_Theory.ipynb\" target=\"_parent\"><img src=\"https://colab.research.google.com/assets/colab-badge.svg\" alt=\"Open In Colab\"/></a>"
      ]
    },
    {
      "cell_type": "markdown",
      "metadata": {
        "id": "0jLkxJOoK0gK"
      },
      "source": [
        "# About Deeper Probability Theory\n",
        "## Class Directed Learning\n",
        "### Due: Wednesday, 10 February 2021, 11:59pm"
      ]
    },
    {
      "cell_type": "markdown",
      "metadata": {
        "id": "_3XuHK7JLA1u"
      },
      "source": [
        "## Explore Another Pascal's Triangle Pattern\n"
      ]
    },
    {
      "cell_type": "markdown",
      "metadata": {
        "id": "wjL1DY1ALOcI"
      },
      "source": [
        "### The Distribution of the Odds\n",
        "```\n",
        "                                                                                                    # of 1's\n",
        "                                                                   1                                   1\n",
        "                                                                  1 1                                  2\n",
        "                                                                 1   1                                 2\n",
        "                                                                1 1 1 1                                4\n",
        "                                                               1       1                               2\n",
        "                                                              1 1     1 1                              4\n",
        "                                                             1   1   1   1                             4\n",
        "                                                            1 1 1 1 1 1 1 1                            8\n",
        "                                                           1               1                           2\n",
        "                                                          1 1             1 1                          4\n",
        "                                                         1   1           1   1                         4\n",
        "                                                        1 1 1 1         1 1 1 1                        8\n",
        "                                                       1       1       1       1                       4\n",
        "                                                      1 1     1 1     1 1     1 1                      8\n",
        "                                                     1   1   1   1   1   1   1   1                     8\n",
        "                                                    1 1 1 1 1 1 1 1 1 1 1 1 1 1 1 1                   16\n",
        "                                                   1                               1                   2\n",
        "                                                  1 1                             1 1                  4\n",
        "                                                 1   1                           1   1                 4\n",
        "                                                1 1 1 1                         1 1 1 1                8\n",
        "                                               1       1                       1       1               4\n",
        "                                              1 1     1 1                     1 1     1 1              8\n",
        "                                             1   1   1   1                   1   1   1   1             8\n",
        "                                            1 1 1 1 1 1 1 1                 1 1 1 1 1 1 1 1           16\n",
        "                                           1               1               1               1           4\n",
        "                                          1 1             1 1             1 1             1 1          8\n",
        "                                         1   1           1   1           1   1           1   1         8\n",
        "                                        1 1 1 1         1 1 1 1         1 1 1 1         1 1 1 1       16\n",
        "                                       1       1       1       1       1       1       1       1       8\n",
        "                                      1 1     1 1     1 1     1 1     1 1     1 1     1 1     1 1     16\n",
        "                                     1   1   1   1   1   1   1   1   1   1   1   1   1   1   1   1    16\n",
        "                                    1 1 1 1 1 1 1 1 1 1 1 1 1 1 1 1 1 1 1 1 1 1 1 1 1 1 1 1 1 1 1 1   32\n",
        "                                   1                                                               1   2\n",
        "                                  1 1                                                             1 1 etc.\n",
        "                                 1   1                                                           1   1\n",
        "                                1 1 1 1                                                         1 1 1 1\n",
        "                               1       1                                                       1       1\n",
        "                              1 1     1 1                                                     1 1     1 1\n",
        "                             1   1   1   1                                                   1   1   1   1\n",
        "                            1 1 1 1 1 1 1 1                                                 1 1 1 1 1 1 1 1\n",
        "                           1               1                                               1               1\n",
        "                          1 1             1 1                                             1 1             1 1\n",
        "                         1   1           1   1                                           1   1           1   1\n",
        "                        1 1 1 1         1 1 1 1                                         1 1 1 1         1 1 1 1\n",
        "                       1       1       1       1                                       1       1       1       1\n",
        "                      1 1     1 1     1 1     1 1                                     1 1     1 1     1 1     1 1\n",
        "                     1   1   1   1   1   1   1   1                                   1   1   1   1   1   1   1   1\n",
        "                    1 1 1 1 1 1 1 1 1 1 1 1 1 1 1 1                                 1 1 1 1 1 1 1 1 1 1 1 1 1 1 1 1\n",
        "                   1                               1                               1                               1\n",
        "                  1 1                             1 1                             1 1                             1 1\n",
        "                 1   1                           1   1                           1   1                           1   1\n",
        "                1 1 1 1                         1 1 1 1                         1 1 1 1                         1 1 1 1\n",
        "               1       1                       1       1                       1       1                       1       1\n",
        "              1 1     1 1                     1 1     1 1                     1 1     1 1                     1 1     1 1\n",
        "             1   1   1   1                   1   1   1   1                   1   1   1   1                   1   1   1   1\n",
        "            1 1 1 1 1 1 1 1                 1 1 1 1 1 1 1 1                 1 1 1 1 1 1 1 1                 1 1 1 1 1 1 1 1\n",
        "           1               1               1               1               1               1               1               1\n",
        "          1 1             1 1             1 1             1 1             1 1             1 1             1 1             1 1\n",
        "         1   1           1   1           1   1           1   1           1   1           1   1           1   1           1   1\n",
        "        1 1 1 1         1 1 1 1         1 1 1 1         1 1 1 1         1 1 1 1         1 1 1 1         1 1 1 1         1 1 1 1\n",
        "       1       1       1       1       1       1       1       1       1       1       1       1       1       1       1       1\n",
        "      1 1     1 1     1 1     1 1     1 1     1 1     1 1     1 1     1 1     1 1     1 1     1 1     1 1     1 1     1 1     1 1\n",
        "     1   1   1   1   1   1   1   1   1   1   1   1   1   1   1   1   1   1   1   1   1   1   1   1   1   1   1   1   1   1   1   1\n",
        "    1 1 1 1 1 1 1 1 1 1 1 1 1 1 1 1 1 1 1 1 1 1 1 1 1 1 1 1 1 1 1 1 1 1 1 1 1 1 1 1 1 1 1 1 1 1 1 1 1 1 1 1 1 1 1 1 1 1 1 1 1 1 1 1\n",
        "\n",
        "```"
      ]
    },
    {
      "cell_type": "markdown",
      "metadata": {
        "id": "qLKo-LYUMsui"
      },
      "source": [
        "### In terms of parity (counting odd numbers in each row)"
      ]
    },
    {
      "cell_type": "markdown",
      "metadata": {
        "id": "QwTMr_TZLsXZ"
      },
      "source": [
        " | n | n in binary | no. of ones in n's binary rep. | $2^{\\mbox{no. of ones}}$ |\n",
        " |---|-------------|--------------------------------|--------------------------|\n",
        " | 0 |          00 |                              0 | $2^0 = 1$                |\n",
        " | 1 |          01 |                              1 | $2^1 = 2$                |\n",
        " | 2 |          10 |                              1 | $2^1 = 2$                |\n",
        " | 3 |          11 |                              2 | $2^2 = 4$                |\n"
      ]
    },
    {
      "cell_type": "markdown",
      "metadata": {
        "id": "-Vxk-ujlMgNX"
      },
      "source": [
        "### In terms of the Binomial Theorem's $(1 + x)^n$ reduced mod 2"
      ]
    },
    {
      "cell_type": "markdown",
      "metadata": {
        "id": "LW528ZrdMpki"
      },
      "source": [
        "In the following, ```rm2``` stands for 'reduced mod 2'.\n",
        "\n",
        "1. Expand and reduce: $$(1 + x)^2 = 1 + 2x + x^2,\\ \\mbox{rm2} \\Rightarrow 1 + 0x + x^2 = 1 + x^2$$\n",
        "2. Try with an odd power: $$(1 + x)^3 = (1 + 2x + x^2) + (x + 2x^2 + x^3) = 1 + 3x + 3x^2 + x^3,\\ \\mbox{rm2} \\Rightarrow 1 + 1x + 1x^2 + x^3$$\n",
        "3. Better stick with even: $$(1 + x)^4 = 1 + 4x + 6x^2 + 4x^3 + x^4,\\ \\mbox{rm2} \\Rightarrow 1 + x^4$$\n",
        "4. Or decomposed into power of 2 powers: $$(1 + x)^{11} = (1 + x)^{8 + 2 + 1} = (1 + x)^8 (1 + x)^2 (1 + x)^1,\\ \\mbox{rm2} \\Rightarrow (1 + x^8)(1 + x^2)(1 + x^1)$$"
      ]
    },
    {
      "cell_type": "markdown",
      "metadata": {
        "id": "px7pyDP7OiEk"
      },
      "source": [
        "# What is the probability"
      ]
    },
    {
      "cell_type": "markdown",
      "metadata": {
        "id": "693coRaEOtyl"
      },
      "source": [
        "that a randomly chosen number from Pascal's Triangle is even?"
      ]
    },
    {
      "cell_type": "markdown",
      "metadata": {
        "id": "vRqZbqW-O0O6"
      },
      "source": [
        "Hint: Use the complementary probability that a randomly chosen number from Pascal's Triangle is odd!\n"
      ]
    },
    {
      "cell_type": "markdown",
      "metadata": {
        "id": "HNm_DN5JO8j4"
      },
      "source": [
        "```\n",
        "                                                                                                               Total # of 1's\n",
        "  What if you numbered the rows starting at 1 instead of 0?        1                                   1             1\n",
        "                                                                  1 1                                  2             3\n",
        "                                                                 1   1                                 3\n",
        "                                                                1 1 1 1                                4             9\n",
        "                                                               1       1                               5\n",
        "                                                              1 1     1 1                              6\n",
        "                                                             1   1   1   1                             7\n",
        "                                                            1 1 1 1 1 1 1 1                            8            27\n",
        "                                                           1               1                           9\n",
        "                                                          1 1             1 1                         10\n",
        "                                                         1   1           1   1                        11\n",
        "                                                        1 1 1 1         1 1 1 1                       12\n",
        "                                                       1       1       1       1                      13\n",
        "                                                      1 1     1 1     1 1     1 1                     14\n",
        "                                                     1   1   1   1   1   1   1   1                    15\n",
        "                                                    1 1 1 1 1 1 1 1 1 1 1 1 1 1 1 1                   16            81\n",
        "                                                   1                               1                  17\n",
        "                                                  1 1                             1 1                 18\n",
        "                                                 1   1                           1   1                19\n",
        "                                                1 1 1 1                         1 1 1 1               20\n",
        "                                               1       1                       1       1              21\n",
        "                                              1 1     1 1                     1 1     1 1             22\n",
        "                                             1   1   1   1                   1   1   1   1            23\n",
        "                                            1 1 1 1 1 1 1 1                 1 1 1 1 1 1 1 1           24\n",
        "                                           1               1               1               1          25\n",
        "                                          1 1             1 1             1 1             1 1         26\n",
        "                                         1   1           1   1           1   1           1   1        27\n",
        "                                        1 1 1 1         1 1 1 1         1 1 1 1         1 1 1 1       28\n",
        "                                       1       1       1       1       1       1       1       1      29\n",
        "                                      1 1     1 1     1 1     1 1     1 1     1 1     1 1     1 1     30\n",
        "                                     1   1   1   1   1   1   1   1   1   1   1   1   1   1   1   1    31\n",
        "                                    1 1 1 1 1 1 1 1 1 1 1 1 1 1 1 1 1 1 1 1 1 1 1 1 1 1 1 1 1 1 1 1   32          243\n",
        "                                   1                                                               1\n",
        "                                  1 1                                                             1 1\n",
        "                                 1   1                                                           1   1\n",
        "                                1 1 1 1                                                         1 1 1 1\n",
        "                               1       1                                                       1       1\n",
        "                              1 1     1 1                                                     1 1     1 1\n",
        "                             1   1   1   1                                                   1   1   1   1\n",
        "                            1 1 1 1 1 1 1 1                                                 1 1 1 1 1 1 1 1\n",
        "                           1               1                                               1               1\n",
        "                          1 1             1 1                                             1 1             1 1\n",
        "                         1   1           1   1                                           1   1           1   1\n",
        "                        1 1 1 1         1 1 1 1                                         1 1 1 1         1 1 1 1\n",
        "                       1       1       1       1                                       1       1       1       1\n",
        "                      1 1     1 1     1 1     1 1                                     1 1     1 1     1 1     1 1\n",
        "                     1   1   1   1   1   1   1   1                                   1   1   1   1   1   1   1   1\n",
        "                    1 1 1 1 1 1 1 1 1 1 1 1 1 1 1 1                                 1 1 1 1 1 1 1 1 1 1 1 1 1 1 1 1\n",
        "                   1                               1                               1                               1\n",
        "                  1 1                             1 1                             1 1                             1 1\n",
        "                 1   1                           1   1                           1   1                           1   1\n",
        "                1 1 1 1                         1 1 1 1                         1 1 1 1                         1 1 1 1\n",
        "               1       1                       1       1                       1       1                       1       1\n",
        "              1 1     1 1                     1 1     1 1                     1 1     1 1                     1 1     1 1\n",
        "             1   1   1   1                   1   1   1   1                   1   1   1   1                   1   1   1   1\n",
        "            1 1 1 1 1 1 1 1                 1 1 1 1 1 1 1 1                 1 1 1 1 1 1 1 1                 1 1 1 1 1 1 1 1\n",
        "           1               1               1               1               1               1               1               1\n",
        "          1 1             1 1             1 1             1 1             1 1             1 1             1 1             1 1\n",
        "         1   1           1   1           1   1           1   1           1   1           1   1           1   1           1   1\n",
        "        1 1 1 1         1 1 1 1         1 1 1 1         1 1 1 1         1 1 1 1         1 1 1 1         1 1 1 1         1 1 1 1\n",
        "       1       1       1       1       1       1       1       1       1       1       1       1       1       1       1       1\n",
        "      1 1     1 1     1 1     1 1     1 1     1 1     1 1     1 1     1 1     1 1     1 1     1 1     1 1     1 1     1 1     1 1\n",
        "     1   1   1   1   1   1   1   1   1   1   1   1   1   1   1   1   1   1   1   1   1   1   1   1   1   1   1   1   1   1   1   1\n",
        "    1 1 1 1 1 1 1 1 1 1 1 1 1 1 1 1 1 1 1 1 1 1 1 1 1 1 1 1 1 1 1 1 1 1 1 1 1 1 1 1 1 1 1 1 1 1 1 1 1 1 1 1 1 1 1 1 1 1 1 1 1 1 1 1\n",
        "```"
      ]
    },
    {
      "source": [],
      "cell_type": "markdown",
      "metadata": {}
    },
    {
      "source": [
        "# Chase Wilcox\n",
        "def get_num_values_in_x_rows(num_rows):\n",
        "    count = 0\n",
        "    for x in range(1, num_rows+1):\n",
        "        count += x\n",
        "    return count\n",
        "\n",
        "def get_num_odds_in_x_rows(num_rows):\n",
        "    odds = 0\n",
        "    for x in range(1,num_rows+1):\n",
        "       odds += num_odds_in_row(x)\n",
        "    return odds\n",
        "\n",
        "ones_in_binary = lambda x: bin(x).count('1')\n",
        "num_odds_in_row = lambda row: 2**(ones_in_binary(row-1))\n",
        "prob_of_odds_in_x_rows = lambda x: get_num_odds_in_x_rows(x)/get_num_values_in_x_rows(x)\n",
        "prob_of_evens_in_x_rows = lambda x: 1 - prob_of_odds_in_x_rows(x)\n",
        "\n",
        "x = 6\n",
        "\n",
        "print(f\"Probability of odds in {x} rows: \")\n",
        "print(prob_of_odds_in_x_rows(x))\n",
        "print()\n",
        "print(f\"Probability of evens in {x} rows: \")\n",
        "print(prob_of_evens_in_x_rows(x))\n",
        "print()\n",
        "print(\"Total Probability:\")\n",
        "print(prob_of_evens_in_x_rows(x) + prob_of_odds_in_x_rows(x))"
      ],
      "cell_type": "code",
      "metadata": {},
      "execution_count": 1,
      "outputs": [
        {
          "output_type": "stream",
          "name": "stdout",
          "text": [
            "Probability of odds in 6 rows: \n0.7142857142857143\n\nProbability of odds in 6 rows: \n0.2857142857142857\n\nTotal Probability:\n1.0\n"
          ]
        }
      ]
    },
    {
      "source": [
        "from math import log\n",
        "\n",
        "3 ** log(8,2)\n",
        "row = 8\n",
        "base = 2\n",
        "3 ** log(row,base)\n",
        "\n",
        "#Works for rows that are powers of 2\n",
        "get_num_odds = lambda row:3**log(row,2)\n",
        "# Get some nth triangle numbers\n",
        "#n * n+1/2\n",
        "\n",
        "get_triangle_number = lambda n: (n * (n+1)) / 2\n",
        "#print(get_triangle_number(2))\n",
        "#print(get_num_odds(4))\n",
        "\n",
        "prob_odds = lambda x: get_num_odds(x)/ get_triangle_number(x)\n",
        "prob_evens = lambda x: 1 - prob_odds(x)\n",
        "\n",
        "num = 100000000\n",
        "print(prob_odds(num))\n",
        "print(prob_evens(num))"
      ],
      "cell_type": "code",
      "metadata": {},
      "execution_count": 28,
      "outputs": [
        {
          "output_type": "stream",
          "name": "stdout",
          "text": [
            "0.0009565991642132851\n0.9990434008357867\n"
          ]
        }
      ]
    },
    {
      "source": [
        "The probability that a random number is even is in Pascal's triangle is nearly 1.0. "
      ],
      "cell_type": "markdown",
      "metadata": {}
    },
    {
      "source": [
        "I worked with the following individuals for the CDL Michael HegerHorst, Paul Powell, Tim Taylor, and Brayden Whitlock and others."
      ],
      "cell_type": "markdown",
      "metadata": {}
    }
  ]
}