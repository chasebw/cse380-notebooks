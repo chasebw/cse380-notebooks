{
 "cells": [
  {
   "cell_type": "markdown",
   "metadata": {},
   "source": [
    "# Ponder and Prove Combinatorics and Probability\n",
    "#### Due: Saturday, 6 February 2021, 11:59 pm."
   ]
  },
  {
   "cell_type": "markdown",
   "metadata": {},
   "source": [
    "## Conjecture\n",
    "\n",
    "A number-theoretic conjecture of combinatorial significance is the following:\n",
    "\n",
    "$degree2({2n \\choose n}) =$ the \"bits-on count\" (or population count, or Hamming weight) of $n$.\n",
    "\n",
    "$degree2(m)$ is defined as the number (degree, exponent) of 2's in the prime factorization of $m$.\n",
    "\n",
    "In other words, for any $m$, a positive integer, $m = 2^e \\cdot o$ where $o$ is an odd positive integer (could be 1) and $e$ is a natural number, including zero --- which would be the case when $m$ is odd. It's the $e$ that is the $degree2$ of $m$.\n",
    "\n",
    "Another way to state this conjecture is that the number of 1's in the binary expansion of ${2n \\choose n}$ for positive integer $n$ is equal to the number of 2's in the prime factorization of $n$.\n",
    "\n",
    "Your task is to write Python code to test this conjecture for as many positive integers as you can. See the self-assessment for more details.\n",
    "\n",
    "Note: a `bitsoncount` function can be a one-liner in Python: `return bin(x).count('1')`\n",
    "\n"
   ]
  },
  {
   "source": [
    "## My Program"
   ],
   "cell_type": "markdown",
   "metadata": {}
  },
  {
   "source": [
    "from math import sqrt\n",
    "from math import gcd\n",
    "\n",
    "\"\"\"\n",
    "Peform set of n choose k\n",
    "\"\"\"\n",
    "def nCk(n, k):\n",
    "  if k < 0 or k > n:\n",
    "    return 0\n",
    "  else:\n",
    "    result = 1\n",
    "    d = 1\n",
    "    g = 1\n",
    "    m = min(k, n - k)\n",
    "    while (d <= m):\n",
    "      g = gcd(result, d)\n",
    "      result = n * (result // g)\n",
    "      result = (result // (d // g))\n",
    "      n -= 1\n",
    "      d += 1\n",
    "    return result\n",
    "\n",
    "from sympy.ntheory import factorint\n",
    "from time import time\n",
    "print(\"Program running...\")\n",
    "\n",
    "conjecture = lambda x: (factorint(nCk(x*2,x)).get(2) == bin(x).count('1'))\n",
    "x = 1\n",
    "start = time()\n",
    "try:\n",
    "  while (conjecture(x)):\n",
    "    x+=1\n",
    "except KeyboardInterrupt as e:\n",
    "  stop = time()\n",
    "  print(x)\n",
    "  print(f\"Ran for:\\n {stop - start} Seconds\")"
   ],
   "cell_type": "code",
   "metadata": {},
   "execution_count": 2,
   "outputs": [
    {
     "output_type": "stream",
     "name": "stdout",
     "text": [
      "Program running...\n",
      "1474\n",
      "Ran for:\n",
      " 2.91090989112854 Seconds\n"
     ]
    }
   ]
  },
  {
   "source": [
    "I ran this program on my old 2012 MacBook pro. I was scared that it might overheat and die running for 24 hours straight. I ran my program from 1:08 P.M. Friday to 1:08 P.M. Saturday give or take a minute.\n",
    "I was able to verify the positive integers up to x. It got to 14,166 numbers verified then I talked with Jack and improved my algorithm. "
   ],
   "cell_type": "markdown",
   "metadata": {}
  },
  {
   "source": [
    "## After Talking with Jack better algorithm\n",
    "\n",
    "We talked about the best way and most efficient way to write the algorithm and after discussing I came up with this better method. Using this method I would likely be able to verify more numbers in a time period. I verified 44406 in almost 24 hours. There is still work that can be done to improve it."
   ],
   "cell_type": "markdown",
   "metadata": {}
  },
  {
   "source": [
    "from math import sqrt\n",
    "from math import gcd\n",
    "\n",
    "\"\"\"\n",
    "Peform set of n choose k\n",
    "\"\"\"\n",
    "def nCk(n, k):\n",
    "  if k < 0 or k > n:\n",
    "    return 0\n",
    "  else:\n",
    "    result = 1\n",
    "    d = 1\n",
    "    g = 1\n",
    "    m = min(k, n - k)\n",
    "    while (d <= m):\n",
    "      g = gcd(result, d)\n",
    "      result = n * (result // g)\n",
    "      result = (result // (d // g))\n",
    "      n -= 1\n",
    "      d += 1\n",
    "    return result\n",
    "\n",
    "def getNumTwos(num):\n",
    "    count = 0\n",
    "    while (num % 2 == 0):\n",
    "        num //= 2\n",
    "        count +=1\n",
    "    return count\n",
    "\n",
    "from time import time\n",
    "print(\"Program running...\")\n",
    "\n",
    "conjecture = lambda x: (getNumTwos(nCk(x*2,x)) == bin(x).count('1'))\n",
    "x = 1\n",
    "start = time()\n",
    "try:\n",
    "  while (conjecture(x)):\n",
    "    x+=1\n",
    "except KeyboardInterrupt as e:\n",
    "  stop = time()\n",
    "  print(x)\n",
    "  print(f\"Ran for:\\n {stop - start} Seconds\")"
   ],
   "cell_type": "code",
   "metadata": {},
   "execution_count": 1,
   "outputs": [
    {
     "output_type": "stream",
     "name": "stdout",
     "text": [
      "Program running...\n",
      "2006\n",
      "Ran for:\n",
      " 4.974838972091675 Seconds\n"
     ]
    }
   ]
  },
  {
   "cell_type": "markdown",
   "metadata": {},
   "source": [
    "## Basic Probability Theory Question\n",
    "A dark room contains two barrels. The first barrel is filled with green marbles, the second is filled with a half-and-half mixture of green and blue marbles. So there's a 100% chance of choosing a green marble from the first barrel, and a 50% chance of choosing either color in the second barrel. You reach into one of the barrels (it's dark so you don't know which one) and select a marble at random. It's green. You select another. It's green too. You select a third, a fourth, a fifth, etc. Green each time. What is the *minimum* number of marbles you need to select to *exceed* a probability of 99% that you are picking them out of the all-green barrel? (Note that there are enough marbles so that the answer does not depend on how many marbles are in the second barrel.)\n"
   ]
  },
  {
   "source": [
    "P(n green marbles) = P(first barrel and all n are green) + P(second barrel and all n are green)\n",
    "\n",
    "\n",
    "1 = (0.5)*1 + (0.5)*(0.5)^n\n",
    "\n",
    "Simplify\n",
    "0.5 + 0.5^(n+1) = probability of green marbles\n",
    "\n",
    "p(G barrel and n are green) / P(green marble)\n",
    "\n",
    "(0.5) / (0.5 + 0.5^(n+1))\n",
    "\n",
    "When this above formula reaches >= .99 we pick that number n.\n",
    "\n",
    "Note:\n",
    "There is a 50% chance in the beginning that is it is a green barrel or green and blue barrel."
   ],
   "cell_type": "markdown",
   "metadata": {}
  },
  {
   "cell_type": "code",
   "execution_count": 17,
   "metadata": {},
   "outputs": [
    {
     "output_type": "execute_result",
     "data": {
      "text/plain": [
       "0.9922480620155039"
      ]
     },
     "metadata": {},
     "execution_count": 17
    }
   ],
   "source": [
    "((0.5)*1)/(0.5+ (0.5)**(7+1))"
   ]
  },
  {
   "source": [
    "The answer is 7."
   ],
   "cell_type": "markdown",
   "metadata": {}
  },
  {
   "cell_type": "markdown",
   "metadata": {},
   "source": [
    "## A Related But Deeper Basic Probability Theory Question\n",
    "Take a deep breath. Suppose Shakespeare's account is accurate and Julius Caesar gasped \"You too, Brutus\" before breathing his last. What is the probability that you just inhaled a molecule that Julius Caesar exhaled in his dying breath?\n",
    "\n",
    "Assume that after more than two thousand years the exhaled molecules are uniformly spread about the world and the vast majority are still free in the atmosphere. Assume further that there are $10^{44}$ molecules of air in the world, and that your inhaled quantity and Caesar's exhaled quantity were each about $2.2 \\times 10^{22}$ molecules.\n",
    "### Hint\n",
    "If a number $x$ is small, then $(1 - x)$ is approximately equal to $e^{-x}$.\n"
   ]
  },
  {
   "source": [
    "from mpmath import *\n",
    "mp.dps = 50\n",
    "\n",
    "# Final Formula\n",
    "# 1 - (1 - (x/y)^z\n",
    "# Probability that one molecule is not from Caesar\n",
    "# (1 - x/y)\n",
    "# Probability that z molecules are not from Caesar\n",
    "# (1 - x/y)^z\n",
    "# Probability that is it from Caesar \n",
    "# 1-(1 - x/y)^z\n",
    "\n",
    "# '1 -'  means probability that it did not occur \n",
    "# x = exhaled - 2.2 x10^22\n",
    "# y = molecules in world - 10^44\n",
    "# z = molecules you inhale\n",
    "\n",
    "mpf(1) - (mpf(1)- mpf(2.2) * (10**22)/mpf(10**44))**mpf(2.2 * 10**22)"
   ],
   "cell_type": "code",
   "metadata": {},
   "execution_count": 23,
   "outputs": [
    {
     "output_type": "execute_result",
     "data": {
      "text/plain": [
       "mpf('0.99209294594840656259643346372602119847109969277834791')"
      ]
     },
     "metadata": {},
     "execution_count": 23
    }
   ]
  },
  {
   "source": [
    "The answer is about 99.2%."
   ],
   "cell_type": "markdown",
   "metadata": {}
  },
  {
   "cell_type": "markdown",
   "metadata": {},
   "source": [
    "## What is True?\n",
    "Assess yourself on how you did using the checkboxes below. Check a box by putting an 'X' in it only if it is warranted.\n"
   ]
  },
  {
   "source": [
    "### What is true of my experience in general?\n",
    "(5 points each, 15 points total)\n",
    "- [x] I had fun.\n",
    "- [x] I learned something new.\n",
    "- [x] I achieved something meaningful, or something I can build upon at a later time."
   ],
   "cell_type": "markdown",
   "metadata": {}
  },
  {
   "cell_type": "markdown",
   "metadata": {},
   "source": [
    "explain how you had fun. What I learned..."
   ]
  },
  {
   "cell_type": "markdown",
   "metadata": {},
   "source": [
    "### What is true of my report on what I learned?\n",
    "(5 points each, 25 points total)\n",
    "- [x] I wrote a sufficient number of well-written sentences.\n",
    "- [x] My report is free of \"mechanical infelicities\" (misspelled words, grammatical errors, punctuation errors, etc.).\n",
    "- [x] I reported on any connections I found between this investigation and something I already know.\n",
    "- [x] I reported who were and what contribution each of my collaborators made.\n",
    "- [x] I reported on how many numbers I was able to verify with a time/computation budget of 24 hours (in a row).\n"
   ]
  },
  {
   "source": [
    "### What is true about my answers?\n",
    "(15 points each, 60 points total)\n",
    "- [x] I figured out how to run a Python program continuously for at least 24 hours.\n",
    "- [x] I refrained from printing out anything except the highest number I verified, knowing that printing just slows a program down.\n",
    "- [x] I got the right answer for the first probability theory question.\n",
    "- [x] I got the right answer for the second probability theory question.\n"
   ],
   "cell_type": "markdown",
   "metadata": {}
  },
  {
   "source": [
    "### Report who I worked with\n",
    "\n",
    "I worked with Jack Leung and we compared answers and ideas with each other.\n",
    "We went through each problem and discussed them for an hour or two. He mentioned a better way to do the first\n",
    "problem. So I changed my algorithm and ran it again after running it for 24 hours to see if I could verify more numbers in much less time.\n",
    "\n",
    "\n",
    "### Report on connections to things I already knew.\n",
    "\n",
    "I had to recall my understanding of probabilities from DM2 and high school and it was hard. I am not sure how well I knew these things before so going over probabilities again was helpful.\n",
    "\n",
    "\n",
    "### How I had fun\n",
    "\n",
    "I had fun trying to figure out a simple way to run a program for 24 hours. I tried a few things like google collab. I considered the idea of doing threading and started researching more about that. I had fun learning about threading. I had fun running a program for 24 hours because I wasn't sure how to do that initially. I decided to just use my old 2012 MacBook pro since it mostly just sits there now.\n",
    "I had fun sharing ideas with Jack and seeing what he thought about things as well. It is more fun to work and collaborate with someone."
   ],
   "cell_type": "markdown",
   "metadata": {}
  }
 ],
 "metadata": {
  "kernelspec": {
   "display_name": "Python 3",
   "language": "python",
   "name": "python3"
  },
  "language_info": {
   "codemirror_mode": {
    "name": "ipython",
    "version": 3
   },
   "file_extension": ".py",
   "mimetype": "text/x-python",
   "name": "python",
   "nbconvert_exporter": "python",
   "pygments_lexer": "ipython3",
   "version": "3.7.6-final"
  }
 },
 "nbformat": 4,
 "nbformat_minor": 4
}